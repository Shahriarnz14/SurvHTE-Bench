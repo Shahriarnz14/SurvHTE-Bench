{
 "cells": [
  {
   "cell_type": "code",
   "execution_count": 1,
   "metadata": {},
   "outputs": [],
   "source": [
    "import pandas as pd\n",
    "import numpy as np\n",
    "import matplotlib.pyplot as plt\n",
    "import seaborn as sns\n",
    "from tqdm import tqdm\n",
    "import os"
   ]
  },
  {
   "cell_type": "markdown",
   "metadata": {},
   "source": [
    "# Load Data"
   ]
  },
  {
   "cell_type": "code",
   "execution_count": 2,
   "metadata": {},
   "outputs": [],
   "source": [
    "def load_scenario_data(h5_file_path, scenario_num):\n",
    "    key = f\"scenario_{scenario_num}/data\"\n",
    "    with pd.HDFStore(h5_file_path, mode='r') as store:\n",
    "        if key not in store:\n",
    "            return None  # Scenario not found\n",
    "        df = store[key]\n",
    "        metadata = store.get_storer(key).attrs.metadata\n",
    "    return {\"dataset\": df, \"metadata\": metadata}"
   ]
  },
  {
   "cell_type": "code",
   "execution_count": 3,
   "metadata": {},
   "outputs": [],
   "source": [
    "store_files = [\n",
    "    \"synthetic_data/RCT_0_5.h5\",\n",
    "    \"synthetic_data/RCT_0_05.h5\",\n",
    "    \"synthetic_data/e_X.h5\",\n",
    "    \"synthetic_data/e_X_U.h5\",\n",
    "    \"synthetic_data/e_X_info_censor.h5\",\n",
    "    \"synthetic_data/e_X_U_info_censor.h5\"\n",
    "]\n",
    "\n",
    "experiment_setups = {}\n",
    "\n",
    "for path in store_files:\n",
    "    base_name = os.path.splitext(os.path.basename(path))[0]  # e.g. RCT_0_5\n",
    "    scenario_dict = {}\n",
    "    for scenario in range(1, 11):\n",
    "        try:\n",
    "            result = load_scenario_data(path, scenario)\n",
    "            if result is not None:\n",
    "                scenario_dict[f\"scenario_{scenario}\"] = result\n",
    "        except Exception as e:\n",
    "            # Log or ignore as needed\n",
    "            continue\n",
    "    experiment_setups[base_name] = scenario_dict"
   ]
  },
  {
   "cell_type": "code",
   "execution_count": 4,
   "metadata": {},
   "outputs": [
    {
     "data": {
      "text/html": [
       "<div>\n",
       "<style scoped>\n",
       "    .dataframe tbody tr th:only-of-type {\n",
       "        vertical-align: middle;\n",
       "    }\n",
       "\n",
       "    .dataframe tbody tr th {\n",
       "        vertical-align: top;\n",
       "    }\n",
       "\n",
       "    .dataframe thead th {\n",
       "        text-align: right;\n",
       "    }\n",
       "</style>\n",
       "<table border=\"1\" class=\"dataframe\">\n",
       "  <thead>\n",
       "    <tr style=\"text-align: right;\">\n",
       "      <th></th>\n",
       "      <th>id</th>\n",
       "      <th>observed_time</th>\n",
       "      <th>event</th>\n",
       "      <th>W</th>\n",
       "      <th>X1</th>\n",
       "      <th>X2</th>\n",
       "      <th>X3</th>\n",
       "      <th>X4</th>\n",
       "      <th>X5</th>\n",
       "      <th>U1</th>\n",
       "      <th>U2</th>\n",
       "      <th>T0</th>\n",
       "      <th>T1</th>\n",
       "      <th>T</th>\n",
       "      <th>C</th>\n",
       "    </tr>\n",
       "  </thead>\n",
       "  <tbody>\n",
       "    <tr>\n",
       "      <th>0</th>\n",
       "      <td>0</td>\n",
       "      <td>0.054267</td>\n",
       "      <td>1</td>\n",
       "      <td>0</td>\n",
       "      <td>0.135488</td>\n",
       "      <td>0.887852</td>\n",
       "      <td>0.932606</td>\n",
       "      <td>0.445568</td>\n",
       "      <td>0.388236</td>\n",
       "      <td>0.151609</td>\n",
       "      <td>0.205535</td>\n",
       "      <td>0.054267</td>\n",
       "      <td>0.061394</td>\n",
       "      <td>0.054267</td>\n",
       "      <td>1.803019</td>\n",
       "    </tr>\n",
       "    <tr>\n",
       "      <th>1</th>\n",
       "      <td>1</td>\n",
       "      <td>0.732630</td>\n",
       "      <td>1</td>\n",
       "      <td>1</td>\n",
       "      <td>0.257596</td>\n",
       "      <td>0.657368</td>\n",
       "      <td>0.492617</td>\n",
       "      <td>0.964238</td>\n",
       "      <td>0.800984</td>\n",
       "      <td>0.597208</td>\n",
       "      <td>0.255785</td>\n",
       "      <td>0.228566</td>\n",
       "      <td>0.732630</td>\n",
       "      <td>0.732630</td>\n",
       "      <td>1.689546</td>\n",
       "    </tr>\n",
       "    <tr>\n",
       "      <th>2</th>\n",
       "      <td>2</td>\n",
       "      <td>0.162856</td>\n",
       "      <td>1</td>\n",
       "      <td>1</td>\n",
       "      <td>0.455205</td>\n",
       "      <td>0.801058</td>\n",
       "      <td>0.041718</td>\n",
       "      <td>0.769458</td>\n",
       "      <td>0.003171</td>\n",
       "      <td>0.370382</td>\n",
       "      <td>0.223214</td>\n",
       "      <td>0.176016</td>\n",
       "      <td>0.162856</td>\n",
       "      <td>0.162856</td>\n",
       "      <td>1.256329</td>\n",
       "    </tr>\n",
       "    <tr>\n",
       "      <th>3</th>\n",
       "      <td>3</td>\n",
       "      <td>0.050340</td>\n",
       "      <td>1</td>\n",
       "      <td>1</td>\n",
       "      <td>0.292809</td>\n",
       "      <td>0.610914</td>\n",
       "      <td>0.913027</td>\n",
       "      <td>0.300115</td>\n",
       "      <td>0.248599</td>\n",
       "      <td>0.038464</td>\n",
       "      <td>0.409829</td>\n",
       "      <td>0.381909</td>\n",
       "      <td>0.050340</td>\n",
       "      <td>0.050340</td>\n",
       "      <td>1.241777</td>\n",
       "    </tr>\n",
       "    <tr>\n",
       "      <th>4</th>\n",
       "      <td>4</td>\n",
       "      <td>0.524607</td>\n",
       "      <td>1</td>\n",
       "      <td>0</td>\n",
       "      <td>0.666392</td>\n",
       "      <td>0.987533</td>\n",
       "      <td>0.468270</td>\n",
       "      <td>0.123287</td>\n",
       "      <td>0.916031</td>\n",
       "      <td>0.342961</td>\n",
       "      <td>0.791330</td>\n",
       "      <td>0.524607</td>\n",
       "      <td>1.121968</td>\n",
       "      <td>0.524607</td>\n",
       "      <td>1.516613</td>\n",
       "    </tr>\n",
       "  </tbody>\n",
       "</table>\n",
       "</div>"
      ],
      "text/plain": [
       "   id  observed_time  event  W        X1        X2        X3        X4  \\\n",
       "0   0       0.054267      1  0  0.135488  0.887852  0.932606  0.445568   \n",
       "1   1       0.732630      1  1  0.257596  0.657368  0.492617  0.964238   \n",
       "2   2       0.162856      1  1  0.455205  0.801058  0.041718  0.769458   \n",
       "3   3       0.050340      1  1  0.292809  0.610914  0.913027  0.300115   \n",
       "4   4       0.524607      1  0  0.666392  0.987533  0.468270  0.123287   \n",
       "\n",
       "         X5        U1        U2        T0        T1         T         C  \n",
       "0  0.388236  0.151609  0.205535  0.054267  0.061394  0.054267  1.803019  \n",
       "1  0.800984  0.597208  0.255785  0.228566  0.732630  0.732630  1.689546  \n",
       "2  0.003171  0.370382  0.223214  0.176016  0.162856  0.162856  1.256329  \n",
       "3  0.248599  0.038464  0.409829  0.381909  0.050340  0.050340  1.241777  \n",
       "4  0.916031  0.342961  0.791330  0.524607  1.121968  0.524607  1.516613  "
      ]
     },
     "execution_count": 4,
     "metadata": {},
     "output_type": "execute_result"
    }
   ],
   "source": [
    "experiment_setups['RCT_0_5']['scenario_1']['dataset'].head()"
   ]
  },
  {
   "cell_type": "code",
   "execution_count": 5,
   "metadata": {},
   "outputs": [
    {
     "data": {
      "text/html": [
       "<div>\n",
       "<style scoped>\n",
       "    .dataframe tbody tr th:only-of-type {\n",
       "        vertical-align: middle;\n",
       "    }\n",
       "\n",
       "    .dataframe tbody tr th {\n",
       "        vertical-align: top;\n",
       "    }\n",
       "\n",
       "    .dataframe thead th {\n",
       "        text-align: right;\n",
       "    }\n",
       "</style>\n",
       "<table border=\"1\" class=\"dataframe\">\n",
       "  <thead>\n",
       "    <tr style=\"text-align: right;\">\n",
       "      <th></th>\n",
       "      <th>random_idx0</th>\n",
       "      <th>random_idx1</th>\n",
       "      <th>random_idx2</th>\n",
       "      <th>random_idx3</th>\n",
       "      <th>random_idx4</th>\n",
       "      <th>random_idx5</th>\n",
       "      <th>random_idx6</th>\n",
       "      <th>random_idx7</th>\n",
       "      <th>random_idx8</th>\n",
       "      <th>random_idx9</th>\n",
       "    </tr>\n",
       "    <tr>\n",
       "      <th>idx</th>\n",
       "      <th></th>\n",
       "      <th></th>\n",
       "      <th></th>\n",
       "      <th></th>\n",
       "      <th></th>\n",
       "      <th></th>\n",
       "      <th></th>\n",
       "      <th></th>\n",
       "      <th></th>\n",
       "      <th></th>\n",
       "    </tr>\n",
       "  </thead>\n",
       "  <tbody>\n",
       "    <tr>\n",
       "      <th>0</th>\n",
       "      <td>47390</td>\n",
       "      <td>5618</td>\n",
       "      <td>14210</td>\n",
       "      <td>46970</td>\n",
       "      <td>4203</td>\n",
       "      <td>16369</td>\n",
       "      <td>24535</td>\n",
       "      <td>45204</td>\n",
       "      <td>45725</td>\n",
       "      <td>45885</td>\n",
       "    </tr>\n",
       "    <tr>\n",
       "      <th>1</th>\n",
       "      <td>38566</td>\n",
       "      <td>46218</td>\n",
       "      <td>39045</td>\n",
       "      <td>7253</td>\n",
       "      <td>22759</td>\n",
       "      <td>34401</td>\n",
       "      <td>28889</td>\n",
       "      <td>38471</td>\n",
       "      <td>45822</td>\n",
       "      <td>37471</td>\n",
       "    </tr>\n",
       "    <tr>\n",
       "      <th>2</th>\n",
       "      <td>32814</td>\n",
       "      <td>20226</td>\n",
       "      <td>40012</td>\n",
       "      <td>4854</td>\n",
       "      <td>27351</td>\n",
       "      <td>39165</td>\n",
       "      <td>25359</td>\n",
       "      <td>14516</td>\n",
       "      <td>25717</td>\n",
       "      <td>29860</td>\n",
       "    </tr>\n",
       "    <tr>\n",
       "      <th>3</th>\n",
       "      <td>41393</td>\n",
       "      <td>39492</td>\n",
       "      <td>27153</td>\n",
       "      <td>19041</td>\n",
       "      <td>33009</td>\n",
       "      <td>19822</td>\n",
       "      <td>21243</td>\n",
       "      <td>41228</td>\n",
       "      <td>955</td>\n",
       "      <td>23901</td>\n",
       "    </tr>\n",
       "    <tr>\n",
       "      <th>4</th>\n",
       "      <td>12564</td>\n",
       "      <td>17823</td>\n",
       "      <td>48976</td>\n",
       "      <td>18458</td>\n",
       "      <td>22756</td>\n",
       "      <td>28169</td>\n",
       "      <td>45851</td>\n",
       "      <td>36620</td>\n",
       "      <td>29824</td>\n",
       "      <td>12711</td>\n",
       "    </tr>\n",
       "    <tr>\n",
       "      <th>...</th>\n",
       "      <td>...</td>\n",
       "      <td>...</td>\n",
       "      <td>...</td>\n",
       "      <td>...</td>\n",
       "      <td>...</td>\n",
       "      <td>...</td>\n",
       "      <td>...</td>\n",
       "      <td>...</td>\n",
       "      <td>...</td>\n",
       "      <td>...</td>\n",
       "    </tr>\n",
       "    <tr>\n",
       "      <th>49995</th>\n",
       "      <td>15948</td>\n",
       "      <td>39245</td>\n",
       "      <td>30779</td>\n",
       "      <td>48178</td>\n",
       "      <td>45056</td>\n",
       "      <td>4892</td>\n",
       "      <td>528</td>\n",
       "      <td>7486</td>\n",
       "      <td>31042</td>\n",
       "      <td>38267</td>\n",
       "    </tr>\n",
       "    <tr>\n",
       "      <th>49996</th>\n",
       "      <td>11102</td>\n",
       "      <td>29624</td>\n",
       "      <td>40779</td>\n",
       "      <td>3136</td>\n",
       "      <td>45904</td>\n",
       "      <td>41903</td>\n",
       "      <td>45682</td>\n",
       "      <td>36621</td>\n",
       "      <td>33204</td>\n",
       "      <td>38070</td>\n",
       "    </tr>\n",
       "    <tr>\n",
       "      <th>49997</th>\n",
       "      <td>16338</td>\n",
       "      <td>8986</td>\n",
       "      <td>19293</td>\n",
       "      <td>35651</td>\n",
       "      <td>10172</td>\n",
       "      <td>17947</td>\n",
       "      <td>38843</td>\n",
       "      <td>18310</td>\n",
       "      <td>2765</td>\n",
       "      <td>12581</td>\n",
       "    </tr>\n",
       "    <tr>\n",
       "      <th>49998</th>\n",
       "      <td>32478</td>\n",
       "      <td>32134</td>\n",
       "      <td>11955</td>\n",
       "      <td>36939</td>\n",
       "      <td>33266</td>\n",
       "      <td>41932</td>\n",
       "      <td>43910</td>\n",
       "      <td>21691</td>\n",
       "      <td>40801</td>\n",
       "      <td>33527</td>\n",
       "    </tr>\n",
       "    <tr>\n",
       "      <th>49999</th>\n",
       "      <td>23102</td>\n",
       "      <td>2305</td>\n",
       "      <td>33545</td>\n",
       "      <td>20070</td>\n",
       "      <td>20726</td>\n",
       "      <td>1875</td>\n",
       "      <td>26988</td>\n",
       "      <td>24790</td>\n",
       "      <td>17795</td>\n",
       "      <td>39733</td>\n",
       "    </tr>\n",
       "  </tbody>\n",
       "</table>\n",
       "<p>50000 rows × 10 columns</p>\n",
       "</div>"
      ],
      "text/plain": [
       "       random_idx0  random_idx1  random_idx2  random_idx3  random_idx4  \\\n",
       "idx                                                                      \n",
       "0            47390         5618        14210        46970         4203   \n",
       "1            38566        46218        39045         7253        22759   \n",
       "2            32814        20226        40012         4854        27351   \n",
       "3            41393        39492        27153        19041        33009   \n",
       "4            12564        17823        48976        18458        22756   \n",
       "...            ...          ...          ...          ...          ...   \n",
       "49995        15948        39245        30779        48178        45056   \n",
       "49996        11102        29624        40779         3136        45904   \n",
       "49997        16338         8986        19293        35651        10172   \n",
       "49998        32478        32134        11955        36939        33266   \n",
       "49999        23102         2305        33545        20070        20726   \n",
       "\n",
       "       random_idx5  random_idx6  random_idx7  random_idx8  random_idx9  \n",
       "idx                                                                     \n",
       "0            16369        24535        45204        45725        45885  \n",
       "1            34401        28889        38471        45822        37471  \n",
       "2            39165        25359        14516        25717        29860  \n",
       "3            19822        21243        41228          955        23901  \n",
       "4            28169        45851        36620        29824        12711  \n",
       "...            ...          ...          ...          ...          ...  \n",
       "49995         4892          528         7486        31042        38267  \n",
       "49996        41903        45682        36621        33204        38070  \n",
       "49997        17947        38843        18310         2765        12581  \n",
       "49998        41932        43910        21691        40801        33527  \n",
       "49999         1875        26988        24790        17795        39733  \n",
       "\n",
       "[50000 rows x 10 columns]"
      ]
     },
     "execution_count": 5,
     "metadata": {},
     "output_type": "execute_result"
    }
   ],
   "source": [
    "experiment_repeat_setups = pd.read_csv(\"synthetic_data/idx_split.csv\").set_index(\"idx\")\n",
    "experiment_repeat_setups"
   ]
  },
  {
   "cell_type": "markdown",
   "metadata": {},
   "source": [
    "# Run Experiments"
   ]
  },
  {
   "cell_type": "code",
   "execution_count": 6,
   "metadata": {},
   "outputs": [],
   "source": [
    "from models_causal_impute.meta_learners import TLearner, SLearner, XLearner\n",
    "import time\n",
    "import pickle\n",
    "import numpy as np\n",
    "import pandas as pd\n",
    "from tqdm import tqdm"
   ]
  },
  {
   "cell_type": "code",
   "execution_count": 7,
   "metadata": {},
   "outputs": [],
   "source": [
    "def prepare_data_split(dataset_df, experiment_repeat_setups, random_idx_col_list):\n",
    "    split_results = {}\n",
    "\n",
    "    for col in random_idx_col_list:\n",
    "        random_idx = experiment_repeat_setups[col].values\n",
    "        test_ids = random_idx[-5000:]\n",
    "        train_ids = random_idx[:-5000]\n",
    "\n",
    "        X_cols = [c for c in dataset_df.columns if c.startswith(\"X\") and c[1:].isdigit()]\n",
    "        \n",
    "        train_df = dataset_df[dataset_df['id'].isin(train_ids)]\n",
    "        test_df = dataset_df[dataset_df['id'].isin(test_ids)]\n",
    "\n",
    "        X_train = train_df[X_cols].to_numpy()\n",
    "        W_train = train_df[\"W\"].to_numpy()\n",
    "        Y_train = train_df[[\"observed_time\", \"event\"]].to_numpy()\n",
    "\n",
    "        X_test = test_df[X_cols].to_numpy()\n",
    "        W_test = test_df[\"W\"].to_numpy()\n",
    "        Y_test = test_df[[\"observed_time\", \"event\"]].to_numpy()\n",
    "\n",
    "        CATE_test_true = (test_df[\"T1\"] - test_df[\"T0\"]).to_numpy()\n",
    "\n",
    "        split_results[col] = (X_train, W_train, Y_train, X_test, W_test, Y_test, CATE_test_true)\n",
    "\n",
    "    return split_results"
   ]
  },
  {
   "cell_type": "code",
   "execution_count": 8,
   "metadata": {},
   "outputs": [
    {
     "name": "stderr",
     "output_type": "stream",
     "text": [
      "Experiment Setups:   0%|          | 0/6 [00:00<?, ?it/s]\n",
      "\u001b[A"
     ]
    },
    {
     "name": "stdout",
     "output_type": "stream",
     "text": [
      "Running ridge for RCT_0_5 - scenario_1\n"
     ]
    },
    {
     "name": "stderr",
     "output_type": "stream",
     "text": [
      "\n",
      "\u001b[A"
     ]
    },
    {
     "name": "stdout",
     "output_type": "stream",
     "text": [
      "Running lasso for RCT_0_5 - scenario_1\n"
     ]
    },
    {
     "name": "stderr",
     "output_type": "stream",
     "text": [
      "\n",
      "\u001b[A"
     ]
    },
    {
     "name": "stdout",
     "output_type": "stream",
     "text": [
      "Running rf for RCT_0_5 - scenario_1\n"
     ]
    },
    {
     "name": "stderr",
     "output_type": "stream",
     "text": [
      "\n",
      "\u001b[A"
     ]
    },
    {
     "name": "stdout",
     "output_type": "stream",
     "text": [
      "Running gbr for RCT_0_5 - scenario_1\n"
     ]
    },
    {
     "name": "stderr",
     "output_type": "stream",
     "text": [
      "\n",
      "\u001b[A"
     ]
    },
    {
     "name": "stdout",
     "output_type": "stream",
     "text": [
      "Running xgb for RCT_0_5 - scenario_1\n"
     ]
    },
    {
     "name": "stderr",
     "output_type": "stream",
     "text": [
      "\n",
      "\u001b[A\n",
      "\u001b[A\n",
      "\u001b[A"
     ]
    },
    {
     "name": "stdout",
     "output_type": "stream",
     "text": [
      "Running ridge for RCT_0_5 - scenario_2\n"
     ]
    },
    {
     "name": "stderr",
     "output_type": "stream",
     "text": [
      "\n",
      "\u001b[A"
     ]
    },
    {
     "name": "stdout",
     "output_type": "stream",
     "text": [
      "Running lasso for RCT_0_5 - scenario_2\n"
     ]
    },
    {
     "name": "stderr",
     "output_type": "stream",
     "text": [
      "\n",
      "\u001b[A"
     ]
    },
    {
     "name": "stdout",
     "output_type": "stream",
     "text": [
      "Running rf for RCT_0_5 - scenario_2\n"
     ]
    },
    {
     "name": "stderr",
     "output_type": "stream",
     "text": [
      "\n",
      "\u001b[A"
     ]
    },
    {
     "name": "stdout",
     "output_type": "stream",
     "text": [
      "Running gbr for RCT_0_5 - scenario_2\n"
     ]
    },
    {
     "name": "stderr",
     "output_type": "stream",
     "text": [
      "\n",
      "\u001b[A"
     ]
    },
    {
     "name": "stdout",
     "output_type": "stream",
     "text": [
      "Running xgb for RCT_0_5 - scenario_2\n"
     ]
    },
    {
     "name": "stderr",
     "output_type": "stream",
     "text": [
      "\n",
      "\u001b[A\n",
      "\u001b[A\n",
      "\u001b[A"
     ]
    },
    {
     "name": "stdout",
     "output_type": "stream",
     "text": [
      "Running ridge for RCT_0_5 - scenario_3\n"
     ]
    },
    {
     "name": "stderr",
     "output_type": "stream",
     "text": [
      "\n",
      "\u001b[A"
     ]
    },
    {
     "name": "stdout",
     "output_type": "stream",
     "text": [
      "Running lasso for RCT_0_5 - scenario_3\n"
     ]
    },
    {
     "name": "stderr",
     "output_type": "stream",
     "text": [
      "\n",
      "\u001b[A"
     ]
    },
    {
     "name": "stdout",
     "output_type": "stream",
     "text": [
      "Running rf for RCT_0_5 - scenario_3\n"
     ]
    },
    {
     "name": "stderr",
     "output_type": "stream",
     "text": [
      "\n",
      "\u001b[A"
     ]
    },
    {
     "name": "stdout",
     "output_type": "stream",
     "text": [
      "Running gbr for RCT_0_5 - scenario_3\n"
     ]
    },
    {
     "name": "stderr",
     "output_type": "stream",
     "text": [
      "\n",
      "\u001b[A"
     ]
    },
    {
     "name": "stdout",
     "output_type": "stream",
     "text": [
      "Running xgb for RCT_0_5 - scenario_3\n"
     ]
    },
    {
     "name": "stderr",
     "output_type": "stream",
     "text": [
      "\n",
      "\u001b[A\n",
      "\u001b[A\n",
      "\u001b[A\n",
      "\u001b[A"
     ]
    },
    {
     "name": "stdout",
     "output_type": "stream",
     "text": [
      "Running ridge for RCT_0_5 - scenario_5\n",
      "Running lasso for RCT_0_5 - scenario_5\n"
     ]
    },
    {
     "name": "stderr",
     "output_type": "stream",
     "text": [
      "\n",
      "\u001b[A"
     ]
    },
    {
     "name": "stdout",
     "output_type": "stream",
     "text": [
      "Running rf for RCT_0_5 - scenario_5\n"
     ]
    },
    {
     "name": "stderr",
     "output_type": "stream",
     "text": [
      "\n",
      "\u001b[A"
     ]
    },
    {
     "name": "stdout",
     "output_type": "stream",
     "text": [
      "Running gbr for RCT_0_5 - scenario_5\n"
     ]
    },
    {
     "name": "stderr",
     "output_type": "stream",
     "text": [
      "\n",
      "\u001b[A"
     ]
    },
    {
     "name": "stdout",
     "output_type": "stream",
     "text": [
      "Running xgb for RCT_0_5 - scenario_5\n"
     ]
    },
    {
     "name": "stderr",
     "output_type": "stream",
     "text": [
      "\n",
      "\u001b[A\n",
      "\u001b[A\n",
      "\u001b[A\n",
      "\u001b[A"
     ]
    },
    {
     "name": "stdout",
     "output_type": "stream",
     "text": [
      "Running ridge for RCT_0_5 - scenario_6\n",
      "Running lasso for RCT_0_5 - scenario_6\n"
     ]
    },
    {
     "name": "stderr",
     "output_type": "stream",
     "text": [
      "\n",
      "\u001b[A"
     ]
    },
    {
     "name": "stdout",
     "output_type": "stream",
     "text": [
      "Running rf for RCT_0_5 - scenario_6\n"
     ]
    },
    {
     "name": "stderr",
     "output_type": "stream",
     "text": [
      "\n",
      "\u001b[A"
     ]
    },
    {
     "name": "stdout",
     "output_type": "stream",
     "text": [
      "Running gbr for RCT_0_5 - scenario_6\n"
     ]
    },
    {
     "name": "stderr",
     "output_type": "stream",
     "text": [
      "\n",
      "\u001b[A"
     ]
    },
    {
     "name": "stdout",
     "output_type": "stream",
     "text": [
      "Running xgb for RCT_0_5 - scenario_6\n"
     ]
    },
    {
     "name": "stderr",
     "output_type": "stream",
     "text": [
      "\n",
      "\u001b[A\n",
      "\u001b[A\n",
      "\u001b[A\n",
      "\u001b[A"
     ]
    },
    {
     "name": "stdout",
     "output_type": "stream",
     "text": [
      "Running ridge for RCT_0_5 - scenario_8\n",
      "Running lasso for RCT_0_5 - scenario_8\n"
     ]
    },
    {
     "name": "stderr",
     "output_type": "stream",
     "text": [
      "\n",
      "\u001b[A"
     ]
    },
    {
     "name": "stdout",
     "output_type": "stream",
     "text": [
      "Running rf for RCT_0_5 - scenario_8\n"
     ]
    },
    {
     "name": "stderr",
     "output_type": "stream",
     "text": [
      "\n",
      "\u001b[A"
     ]
    },
    {
     "name": "stdout",
     "output_type": "stream",
     "text": [
      "Running gbr for RCT_0_5 - scenario_8\n"
     ]
    },
    {
     "name": "stderr",
     "output_type": "stream",
     "text": [
      "\n",
      "\u001b[A"
     ]
    },
    {
     "name": "stdout",
     "output_type": "stream",
     "text": [
      "Running xgb for RCT_0_5 - scenario_8\n"
     ]
    },
    {
     "name": "stderr",
     "output_type": "stream",
     "text": [
      "\n",
      "\u001b[A\n",
      "\u001b[A\n",
      "\u001b[A\n",
      "\n"
     ]
    },
    {
     "name": "stdout",
     "output_type": "stream",
     "text": [
      "Running ridge for RCT_0_5 - scenario_9\n"
     ]
    },
    {
     "name": "stderr",
     "output_type": "stream",
     "text": [
      "Base Models:  20%|██        | 1/5 [00:00<00:00,  5.04it/s]\u001b[A\u001b[A"
     ]
    },
    {
     "name": "stdout",
     "output_type": "stream",
     "text": [
      "Running lasso for RCT_0_5 - scenario_9\n"
     ]
    },
    {
     "name": "stderr",
     "output_type": "stream",
     "text": [
      "\n",
      "\u001b[A"
     ]
    },
    {
     "name": "stdout",
     "output_type": "stream",
     "text": [
      "Running rf for RCT_0_5 - scenario_9\n"
     ]
    },
    {
     "name": "stderr",
     "output_type": "stream",
     "text": [
      "\n",
      "\u001b[A"
     ]
    },
    {
     "name": "stdout",
     "output_type": "stream",
     "text": [
      "Running gbr for RCT_0_5 - scenario_9\n"
     ]
    },
    {
     "name": "stderr",
     "output_type": "stream",
     "text": [
      "\n",
      "\u001b[A"
     ]
    },
    {
     "name": "stdout",
     "output_type": "stream",
     "text": [
      "Running xgb for RCT_0_5 - scenario_9\n"
     ]
    },
    {
     "name": "stderr",
     "output_type": "stream",
     "text": [
      "\n",
      "\u001b[A\n",
      "\u001b[A\n",
      "\u001b[A\n",
      "\u001b[A"
     ]
    },
    {
     "name": "stdout",
     "output_type": "stream",
     "text": [
      "Running ridge for RCT_0_5 - scenario_10\n",
      "Running lasso for RCT_0_5 - scenario_10\n"
     ]
    },
    {
     "name": "stderr",
     "output_type": "stream",
     "text": [
      "\n",
      "\u001b[A"
     ]
    },
    {
     "name": "stdout",
     "output_type": "stream",
     "text": [
      "Running rf for RCT_0_5 - scenario_10\n"
     ]
    },
    {
     "name": "stderr",
     "output_type": "stream",
     "text": [
      "\n",
      "\u001b[A"
     ]
    },
    {
     "name": "stdout",
     "output_type": "stream",
     "text": [
      "Running gbr for RCT_0_5 - scenario_10\n"
     ]
    },
    {
     "name": "stderr",
     "output_type": "stream",
     "text": [
      "\n",
      "\u001b[A"
     ]
    },
    {
     "name": "stdout",
     "output_type": "stream",
     "text": [
      "Running xgb for RCT_0_5 - scenario_10\n"
     ]
    },
    {
     "name": "stderr",
     "output_type": "stream",
     "text": [
      "\n",
      "\u001b[A\n",
      "RCT_0_5 Scenarios: 100%|██████████| 8/8 [06:22<00:00, 47.80s/it]\n",
      "Experiment Setups:  17%|█▋        | 1/6 [06:22<31:51, 382.37s/it]\n",
      "\u001b[A"
     ]
    },
    {
     "name": "stdout",
     "output_type": "stream",
     "text": [
      "Running ridge for RCT_0_05 - scenario_1\n"
     ]
    },
    {
     "name": "stderr",
     "output_type": "stream",
     "text": [
      "\n",
      "\u001b[A"
     ]
    },
    {
     "name": "stdout",
     "output_type": "stream",
     "text": [
      "Running lasso for RCT_0_05 - scenario_1\n"
     ]
    },
    {
     "name": "stderr",
     "output_type": "stream",
     "text": [
      "\n",
      "\u001b[A"
     ]
    },
    {
     "name": "stdout",
     "output_type": "stream",
     "text": [
      "Running rf for RCT_0_05 - scenario_1\n"
     ]
    },
    {
     "name": "stderr",
     "output_type": "stream",
     "text": [
      "\n",
      "\u001b[A"
     ]
    },
    {
     "name": "stdout",
     "output_type": "stream",
     "text": [
      "Running gbr for RCT_0_05 - scenario_1\n"
     ]
    },
    {
     "name": "stderr",
     "output_type": "stream",
     "text": [
      "\n",
      "\u001b[A"
     ]
    },
    {
     "name": "stdout",
     "output_type": "stream",
     "text": [
      "Running xgb for RCT_0_05 - scenario_1\n"
     ]
    },
    {
     "name": "stderr",
     "output_type": "stream",
     "text": [
      "\n",
      "\u001b[A\n",
      "\u001b[A\n",
      "\u001b[A"
     ]
    },
    {
     "name": "stdout",
     "output_type": "stream",
     "text": [
      "Running ridge for RCT_0_05 - scenario_2\n"
     ]
    },
    {
     "name": "stderr",
     "output_type": "stream",
     "text": [
      "\n",
      "\u001b[A"
     ]
    },
    {
     "name": "stdout",
     "output_type": "stream",
     "text": [
      "Running lasso for RCT_0_05 - scenario_2\n"
     ]
    },
    {
     "name": "stderr",
     "output_type": "stream",
     "text": [
      "\n",
      "\u001b[A"
     ]
    },
    {
     "name": "stdout",
     "output_type": "stream",
     "text": [
      "Running rf for RCT_0_05 - scenario_2\n"
     ]
    },
    {
     "name": "stderr",
     "output_type": "stream",
     "text": [
      "\n",
      "\u001b[A"
     ]
    },
    {
     "name": "stdout",
     "output_type": "stream",
     "text": [
      "Running gbr for RCT_0_05 - scenario_2\n"
     ]
    },
    {
     "name": "stderr",
     "output_type": "stream",
     "text": [
      "\n",
      "\u001b[A"
     ]
    },
    {
     "name": "stdout",
     "output_type": "stream",
     "text": [
      "Running xgb for RCT_0_05 - scenario_2\n"
     ]
    },
    {
     "name": "stderr",
     "output_type": "stream",
     "text": [
      "\n",
      "\u001b[A\n",
      "\u001b[A\n",
      "\u001b[A"
     ]
    },
    {
     "name": "stdout",
     "output_type": "stream",
     "text": [
      "Running ridge for RCT_0_05 - scenario_3\n"
     ]
    },
    {
     "name": "stderr",
     "output_type": "stream",
     "text": [
      "\n",
      "\u001b[A"
     ]
    },
    {
     "name": "stdout",
     "output_type": "stream",
     "text": [
      "Running lasso for RCT_0_05 - scenario_3\n"
     ]
    },
    {
     "name": "stderr",
     "output_type": "stream",
     "text": [
      "\n",
      "\u001b[A"
     ]
    },
    {
     "name": "stdout",
     "output_type": "stream",
     "text": [
      "Running rf for RCT_0_05 - scenario_3\n"
     ]
    },
    {
     "name": "stderr",
     "output_type": "stream",
     "text": [
      "\n",
      "\u001b[A"
     ]
    },
    {
     "name": "stdout",
     "output_type": "stream",
     "text": [
      "Running gbr for RCT_0_05 - scenario_3\n"
     ]
    },
    {
     "name": "stderr",
     "output_type": "stream",
     "text": [
      "\n",
      "\u001b[A"
     ]
    },
    {
     "name": "stdout",
     "output_type": "stream",
     "text": [
      "Running xgb for RCT_0_05 - scenario_3\n"
     ]
    },
    {
     "name": "stderr",
     "output_type": "stream",
     "text": [
      "\n",
      "\u001b[A\n",
      "\u001b[A\n",
      "\u001b[A"
     ]
    },
    {
     "name": "stdout",
     "output_type": "stream",
     "text": [
      "Running ridge for RCT_0_05 - scenario_5\n"
     ]
    },
    {
     "name": "stderr",
     "output_type": "stream",
     "text": [
      "\n",
      "\u001b[A"
     ]
    },
    {
     "name": "stdout",
     "output_type": "stream",
     "text": [
      "Running lasso for RCT_0_05 - scenario_5\n"
     ]
    },
    {
     "name": "stderr",
     "output_type": "stream",
     "text": [
      "\n",
      "\u001b[A"
     ]
    },
    {
     "name": "stdout",
     "output_type": "stream",
     "text": [
      "Running rf for RCT_0_05 - scenario_5\n"
     ]
    },
    {
     "name": "stderr",
     "output_type": "stream",
     "text": [
      "\n",
      "\u001b[A"
     ]
    },
    {
     "name": "stdout",
     "output_type": "stream",
     "text": [
      "Running gbr for RCT_0_05 - scenario_5\n"
     ]
    },
    {
     "name": "stderr",
     "output_type": "stream",
     "text": [
      "\n",
      "\u001b[A"
     ]
    },
    {
     "name": "stdout",
     "output_type": "stream",
     "text": [
      "Running xgb for RCT_0_05 - scenario_5\n"
     ]
    },
    {
     "name": "stderr",
     "output_type": "stream",
     "text": [
      "\n",
      "\u001b[A\n",
      "\u001b[A\n",
      "\u001b[A"
     ]
    },
    {
     "name": "stdout",
     "output_type": "stream",
     "text": [
      "Running ridge for RCT_0_05 - scenario_6\n"
     ]
    },
    {
     "name": "stderr",
     "output_type": "stream",
     "text": [
      "\n",
      "\u001b[A"
     ]
    },
    {
     "name": "stdout",
     "output_type": "stream",
     "text": [
      "Running lasso for RCT_0_05 - scenario_6\n"
     ]
    },
    {
     "name": "stderr",
     "output_type": "stream",
     "text": [
      "\n",
      "\u001b[A"
     ]
    },
    {
     "name": "stdout",
     "output_type": "stream",
     "text": [
      "Running rf for RCT_0_05 - scenario_6\n"
     ]
    },
    {
     "name": "stderr",
     "output_type": "stream",
     "text": [
      "\n",
      "\u001b[A"
     ]
    },
    {
     "name": "stdout",
     "output_type": "stream",
     "text": [
      "Running gbr for RCT_0_05 - scenario_6\n"
     ]
    },
    {
     "name": "stderr",
     "output_type": "stream",
     "text": [
      "\n",
      "\u001b[A"
     ]
    },
    {
     "name": "stdout",
     "output_type": "stream",
     "text": [
      "Running xgb for RCT_0_05 - scenario_6\n"
     ]
    },
    {
     "name": "stderr",
     "output_type": "stream",
     "text": [
      "\n",
      "\u001b[A\n",
      "\u001b[A\n",
      "\u001b[A"
     ]
    },
    {
     "name": "stdout",
     "output_type": "stream",
     "text": [
      "Running ridge for RCT_0_05 - scenario_8\n"
     ]
    },
    {
     "name": "stderr",
     "output_type": "stream",
     "text": [
      "\n",
      "\u001b[A"
     ]
    },
    {
     "name": "stdout",
     "output_type": "stream",
     "text": [
      "Running lasso for RCT_0_05 - scenario_8\n"
     ]
    },
    {
     "name": "stderr",
     "output_type": "stream",
     "text": [
      "\n",
      "\u001b[A"
     ]
    },
    {
     "name": "stdout",
     "output_type": "stream",
     "text": [
      "Running rf for RCT_0_05 - scenario_8\n"
     ]
    },
    {
     "name": "stderr",
     "output_type": "stream",
     "text": [
      "\n",
      "\u001b[A"
     ]
    },
    {
     "name": "stdout",
     "output_type": "stream",
     "text": [
      "Running gbr for RCT_0_05 - scenario_8\n"
     ]
    },
    {
     "name": "stderr",
     "output_type": "stream",
     "text": [
      "\n",
      "\u001b[A"
     ]
    },
    {
     "name": "stdout",
     "output_type": "stream",
     "text": [
      "Running xgb for RCT_0_05 - scenario_8\n"
     ]
    },
    {
     "name": "stderr",
     "output_type": "stream",
     "text": [
      "\n",
      "\u001b[A\n",
      "\u001b[A\n",
      "\u001b[A"
     ]
    },
    {
     "name": "stdout",
     "output_type": "stream",
     "text": [
      "Running ridge for RCT_0_05 - scenario_9\n"
     ]
    },
    {
     "name": "stderr",
     "output_type": "stream",
     "text": [
      "\n",
      "\u001b[A"
     ]
    },
    {
     "name": "stdout",
     "output_type": "stream",
     "text": [
      "Running lasso for RCT_0_05 - scenario_9\n"
     ]
    },
    {
     "name": "stderr",
     "output_type": "stream",
     "text": [
      "\n",
      "\u001b[A"
     ]
    },
    {
     "name": "stdout",
     "output_type": "stream",
     "text": [
      "Running rf for RCT_0_05 - scenario_9\n"
     ]
    },
    {
     "name": "stderr",
     "output_type": "stream",
     "text": [
      "\n",
      "\u001b[A"
     ]
    },
    {
     "name": "stdout",
     "output_type": "stream",
     "text": [
      "Running gbr for RCT_0_05 - scenario_9\n"
     ]
    },
    {
     "name": "stderr",
     "output_type": "stream",
     "text": [
      "\n",
      "\u001b[A"
     ]
    },
    {
     "name": "stdout",
     "output_type": "stream",
     "text": [
      "Running xgb for RCT_0_05 - scenario_9\n"
     ]
    },
    {
     "name": "stderr",
     "output_type": "stream",
     "text": [
      "\n",
      "\u001b[A\n",
      "\u001b[A\n",
      "\u001b[A"
     ]
    },
    {
     "name": "stdout",
     "output_type": "stream",
     "text": [
      "Running ridge for RCT_0_05 - scenario_10\n"
     ]
    },
    {
     "name": "stderr",
     "output_type": "stream",
     "text": [
      "\n",
      "\u001b[A"
     ]
    },
    {
     "name": "stdout",
     "output_type": "stream",
     "text": [
      "Running lasso for RCT_0_05 - scenario_10\n"
     ]
    },
    {
     "name": "stderr",
     "output_type": "stream",
     "text": [
      "\n",
      "\u001b[A"
     ]
    },
    {
     "name": "stdout",
     "output_type": "stream",
     "text": [
      "Running rf for RCT_0_05 - scenario_10\n"
     ]
    },
    {
     "name": "stderr",
     "output_type": "stream",
     "text": [
      "\n",
      "\u001b[A"
     ]
    },
    {
     "name": "stdout",
     "output_type": "stream",
     "text": [
      "Running gbr for RCT_0_05 - scenario_10\n"
     ]
    },
    {
     "name": "stderr",
     "output_type": "stream",
     "text": [
      "\n",
      "\u001b[A"
     ]
    },
    {
     "name": "stdout",
     "output_type": "stream",
     "text": [
      "Running xgb for RCT_0_05 - scenario_10\n"
     ]
    },
    {
     "name": "stderr",
     "output_type": "stream",
     "text": [
      "\n",
      "\u001b[A\n",
      "RCT_0_05 Scenarios: 100%|██████████| 8/8 [07:02<00:00, 52.76s/it]\n",
      "Experiment Setups:  33%|███▎      | 2/6 [13:24<27:02, 405.71s/it]\n",
      "\u001b[A\n",
      "\n"
     ]
    },
    {
     "name": "stdout",
     "output_type": "stream",
     "text": [
      "Running ridge for e_X - scenario_1\n"
     ]
    },
    {
     "name": "stderr",
     "output_type": "stream",
     "text": [
      "Base Models:  20%|██        | 1/5 [00:00<00:00,  5.01it/s]\u001b[A\u001b[A"
     ]
    },
    {
     "name": "stdout",
     "output_type": "stream",
     "text": [
      "Running lasso for e_X - scenario_1\n"
     ]
    },
    {
     "name": "stderr",
     "output_type": "stream",
     "text": [
      "\n",
      "\u001b[A"
     ]
    },
    {
     "name": "stdout",
     "output_type": "stream",
     "text": [
      "Running rf for e_X - scenario_1\n"
     ]
    },
    {
     "name": "stderr",
     "output_type": "stream",
     "text": [
      "\n",
      "\u001b[A"
     ]
    },
    {
     "name": "stdout",
     "output_type": "stream",
     "text": [
      "Running gbr for e_X - scenario_1\n"
     ]
    },
    {
     "name": "stderr",
     "output_type": "stream",
     "text": [
      "\n",
      "\u001b[A"
     ]
    },
    {
     "name": "stdout",
     "output_type": "stream",
     "text": [
      "Running xgb for e_X - scenario_1\n"
     ]
    },
    {
     "name": "stderr",
     "output_type": "stream",
     "text": [
      "\n",
      "\u001b[A\n",
      "\u001b[A\n",
      "\u001b[A\n",
      "\u001b[A"
     ]
    },
    {
     "name": "stdout",
     "output_type": "stream",
     "text": [
      "Running ridge for e_X - scenario_2\n",
      "Running lasso for e_X - scenario_2\n"
     ]
    },
    {
     "name": "stderr",
     "output_type": "stream",
     "text": [
      "\n",
      "\u001b[A"
     ]
    },
    {
     "name": "stdout",
     "output_type": "stream",
     "text": [
      "Running rf for e_X - scenario_2\n"
     ]
    },
    {
     "name": "stderr",
     "output_type": "stream",
     "text": [
      "\n",
      "\u001b[A"
     ]
    },
    {
     "name": "stdout",
     "output_type": "stream",
     "text": [
      "Running gbr for e_X - scenario_2\n"
     ]
    },
    {
     "name": "stderr",
     "output_type": "stream",
     "text": [
      "\n",
      "\u001b[A"
     ]
    },
    {
     "name": "stdout",
     "output_type": "stream",
     "text": [
      "Running xgb for e_X - scenario_2\n"
     ]
    },
    {
     "name": "stderr",
     "output_type": "stream",
     "text": [
      "\n",
      "\u001b[A\n",
      "\u001b[A\n",
      "\u001b[A\n",
      "\u001b[A"
     ]
    },
    {
     "name": "stdout",
     "output_type": "stream",
     "text": [
      "Running ridge for e_X - scenario_3\n",
      "Running lasso for e_X - scenario_3\n"
     ]
    },
    {
     "name": "stderr",
     "output_type": "stream",
     "text": [
      "\n",
      "\u001b[A"
     ]
    },
    {
     "name": "stdout",
     "output_type": "stream",
     "text": [
      "Running rf for e_X - scenario_3\n"
     ]
    },
    {
     "name": "stderr",
     "output_type": "stream",
     "text": [
      "\n",
      "\u001b[A"
     ]
    },
    {
     "name": "stdout",
     "output_type": "stream",
     "text": [
      "Running gbr for e_X - scenario_3\n"
     ]
    },
    {
     "name": "stderr",
     "output_type": "stream",
     "text": [
      "\n",
      "\u001b[A"
     ]
    },
    {
     "name": "stdout",
     "output_type": "stream",
     "text": [
      "Running xgb for e_X - scenario_3\n"
     ]
    },
    {
     "name": "stderr",
     "output_type": "stream",
     "text": [
      "\n",
      "\u001b[A\n",
      "\u001b[A\n",
      "\u001b[A"
     ]
    },
    {
     "name": "stdout",
     "output_type": "stream",
     "text": [
      "Running ridge for e_X - scenario_5\n"
     ]
    },
    {
     "name": "stderr",
     "output_type": "stream",
     "text": [
      "\n",
      "\u001b[A"
     ]
    },
    {
     "name": "stdout",
     "output_type": "stream",
     "text": [
      "Running lasso for e_X - scenario_5\n"
     ]
    },
    {
     "name": "stderr",
     "output_type": "stream",
     "text": [
      "\n",
      "\u001b[A"
     ]
    },
    {
     "name": "stdout",
     "output_type": "stream",
     "text": [
      "Running rf for e_X - scenario_5\n"
     ]
    },
    {
     "name": "stderr",
     "output_type": "stream",
     "text": [
      "\n",
      "\u001b[A"
     ]
    },
    {
     "name": "stdout",
     "output_type": "stream",
     "text": [
      "Running gbr for e_X - scenario_5\n"
     ]
    },
    {
     "name": "stderr",
     "output_type": "stream",
     "text": [
      "\n",
      "\u001b[A"
     ]
    },
    {
     "name": "stdout",
     "output_type": "stream",
     "text": [
      "Running xgb for e_X - scenario_5\n"
     ]
    },
    {
     "name": "stderr",
     "output_type": "stream",
     "text": [
      "\n",
      "\u001b[A\n",
      "\u001b[A\n",
      "\u001b[A"
     ]
    },
    {
     "name": "stdout",
     "output_type": "stream",
     "text": [
      "Running ridge for e_X - scenario_6\n"
     ]
    },
    {
     "name": "stderr",
     "output_type": "stream",
     "text": [
      "\n",
      "\u001b[A"
     ]
    },
    {
     "name": "stdout",
     "output_type": "stream",
     "text": [
      "Running lasso for e_X - scenario_6\n"
     ]
    },
    {
     "name": "stderr",
     "output_type": "stream",
     "text": [
      "\n",
      "\u001b[A"
     ]
    },
    {
     "name": "stdout",
     "output_type": "stream",
     "text": [
      "Running rf for e_X - scenario_6\n"
     ]
    },
    {
     "name": "stderr",
     "output_type": "stream",
     "text": [
      "\n",
      "\u001b[A"
     ]
    },
    {
     "name": "stdout",
     "output_type": "stream",
     "text": [
      "Running gbr for e_X - scenario_6\n"
     ]
    },
    {
     "name": "stderr",
     "output_type": "stream",
     "text": [
      "\n",
      "\u001b[A"
     ]
    },
    {
     "name": "stdout",
     "output_type": "stream",
     "text": [
      "Running xgb for e_X - scenario_6\n"
     ]
    },
    {
     "name": "stderr",
     "output_type": "stream",
     "text": [
      "\n",
      "\u001b[A\n",
      "\u001b[A\n",
      "\u001b[A\n",
      "\u001b[A"
     ]
    },
    {
     "name": "stdout",
     "output_type": "stream",
     "text": [
      "Running ridge for e_X - scenario_8\n",
      "Running lasso for e_X - scenario_8\n"
     ]
    },
    {
     "name": "stderr",
     "output_type": "stream",
     "text": [
      "\n",
      "\u001b[A"
     ]
    },
    {
     "name": "stdout",
     "output_type": "stream",
     "text": [
      "Running rf for e_X - scenario_8\n"
     ]
    },
    {
     "name": "stderr",
     "output_type": "stream",
     "text": [
      "\n",
      "\u001b[A"
     ]
    },
    {
     "name": "stdout",
     "output_type": "stream",
     "text": [
      "Running gbr for e_X - scenario_8\n"
     ]
    },
    {
     "name": "stderr",
     "output_type": "stream",
     "text": [
      "\n",
      "\u001b[A"
     ]
    },
    {
     "name": "stdout",
     "output_type": "stream",
     "text": [
      "Running xgb for e_X - scenario_8\n"
     ]
    },
    {
     "name": "stderr",
     "output_type": "stream",
     "text": [
      "\n",
      "\u001b[A\n",
      "\u001b[A\n",
      "\u001b[A\n",
      "\u001b[A"
     ]
    },
    {
     "name": "stdout",
     "output_type": "stream",
     "text": [
      "Running ridge for e_X - scenario_9\n",
      "Running lasso for e_X - scenario_9\n"
     ]
    },
    {
     "name": "stderr",
     "output_type": "stream",
     "text": [
      "\n",
      "\u001b[A"
     ]
    },
    {
     "name": "stdout",
     "output_type": "stream",
     "text": [
      "Running rf for e_X - scenario_9\n"
     ]
    },
    {
     "name": "stderr",
     "output_type": "stream",
     "text": [
      "\n",
      "\u001b[A"
     ]
    },
    {
     "name": "stdout",
     "output_type": "stream",
     "text": [
      "Running gbr for e_X - scenario_9\n"
     ]
    },
    {
     "name": "stderr",
     "output_type": "stream",
     "text": [
      "\n",
      "\u001b[A"
     ]
    },
    {
     "name": "stdout",
     "output_type": "stream",
     "text": [
      "Running xgb for e_X - scenario_9\n"
     ]
    },
    {
     "name": "stderr",
     "output_type": "stream",
     "text": [
      "\n",
      "\u001b[A\n",
      "\u001b[A\n",
      "\u001b[A\n",
      "\u001b[A"
     ]
    },
    {
     "name": "stdout",
     "output_type": "stream",
     "text": [
      "Running ridge for e_X - scenario_10\n",
      "Running lasso for e_X - scenario_10\n"
     ]
    },
    {
     "name": "stderr",
     "output_type": "stream",
     "text": [
      "\n",
      "\u001b[A"
     ]
    },
    {
     "name": "stdout",
     "output_type": "stream",
     "text": [
      "Running rf for e_X - scenario_10\n"
     ]
    },
    {
     "name": "stderr",
     "output_type": "stream",
     "text": [
      "\n",
      "\u001b[A"
     ]
    },
    {
     "name": "stdout",
     "output_type": "stream",
     "text": [
      "Running gbr for e_X - scenario_10\n"
     ]
    },
    {
     "name": "stderr",
     "output_type": "stream",
     "text": [
      "\n",
      "\u001b[A"
     ]
    },
    {
     "name": "stdout",
     "output_type": "stream",
     "text": [
      "Running xgb for e_X - scenario_10\n"
     ]
    },
    {
     "name": "stderr",
     "output_type": "stream",
     "text": [
      "\n",
      "\u001b[A\n",
      "e_X Scenarios: 100%|██████████| 8/8 [06:15<00:00, 46.93s/it]\n",
      "Experiment Setups:  50%|█████     | 3/6 [19:39<19:35, 391.90s/it]\n",
      "\u001b[A"
     ]
    },
    {
     "name": "stdout",
     "output_type": "stream",
     "text": [
      "Running ridge for e_X_U - scenario_1\n"
     ]
    },
    {
     "name": "stderr",
     "output_type": "stream",
     "text": [
      "\n",
      "\u001b[A"
     ]
    },
    {
     "name": "stdout",
     "output_type": "stream",
     "text": [
      "Running lasso for e_X_U - scenario_1\n"
     ]
    },
    {
     "name": "stderr",
     "output_type": "stream",
     "text": [
      "\n",
      "\u001b[A"
     ]
    },
    {
     "name": "stdout",
     "output_type": "stream",
     "text": [
      "Running rf for e_X_U - scenario_1\n"
     ]
    },
    {
     "name": "stderr",
     "output_type": "stream",
     "text": [
      "\n",
      "\u001b[A"
     ]
    },
    {
     "name": "stdout",
     "output_type": "stream",
     "text": [
      "Running gbr for e_X_U - scenario_1\n"
     ]
    },
    {
     "name": "stderr",
     "output_type": "stream",
     "text": [
      "\n",
      "\u001b[A"
     ]
    },
    {
     "name": "stdout",
     "output_type": "stream",
     "text": [
      "Running xgb for e_X_U - scenario_1\n"
     ]
    },
    {
     "name": "stderr",
     "output_type": "stream",
     "text": [
      "\n",
      "\u001b[A\n",
      "\u001b[A\n",
      "\u001b[A\n",
      "\u001b[A"
     ]
    },
    {
     "name": "stdout",
     "output_type": "stream",
     "text": [
      "Running ridge for e_X_U - scenario_2\n",
      "Running lasso for e_X_U - scenario_2\n"
     ]
    },
    {
     "name": "stderr",
     "output_type": "stream",
     "text": [
      "\n",
      "\u001b[A"
     ]
    },
    {
     "name": "stdout",
     "output_type": "stream",
     "text": [
      "Running rf for e_X_U - scenario_2\n"
     ]
    },
    {
     "name": "stderr",
     "output_type": "stream",
     "text": [
      "\n",
      "\u001b[A"
     ]
    },
    {
     "name": "stdout",
     "output_type": "stream",
     "text": [
      "Running gbr for e_X_U - scenario_2\n"
     ]
    },
    {
     "name": "stderr",
     "output_type": "stream",
     "text": [
      "\n",
      "\u001b[A"
     ]
    },
    {
     "name": "stdout",
     "output_type": "stream",
     "text": [
      "Running xgb for e_X_U - scenario_2\n"
     ]
    },
    {
     "name": "stderr",
     "output_type": "stream",
     "text": [
      "\n",
      "\u001b[A\n",
      "\u001b[A\n",
      "\u001b[A\n",
      "\u001b[A"
     ]
    },
    {
     "name": "stdout",
     "output_type": "stream",
     "text": [
      "Running ridge for e_X_U - scenario_3\n",
      "Running lasso for e_X_U - scenario_3\n"
     ]
    },
    {
     "name": "stderr",
     "output_type": "stream",
     "text": [
      "\n",
      "\u001b[A"
     ]
    },
    {
     "name": "stdout",
     "output_type": "stream",
     "text": [
      "Running rf for e_X_U - scenario_3\n"
     ]
    },
    {
     "name": "stderr",
     "output_type": "stream",
     "text": [
      "\n",
      "\u001b[A"
     ]
    },
    {
     "name": "stdout",
     "output_type": "stream",
     "text": [
      "Running gbr for e_X_U - scenario_3\n"
     ]
    },
    {
     "name": "stderr",
     "output_type": "stream",
     "text": [
      "\n",
      "\u001b[A"
     ]
    },
    {
     "name": "stdout",
     "output_type": "stream",
     "text": [
      "Running xgb for e_X_U - scenario_3\n"
     ]
    },
    {
     "name": "stderr",
     "output_type": "stream",
     "text": [
      "\n",
      "\u001b[A\n",
      "\u001b[A\n",
      "\u001b[A\n",
      "\u001b[A"
     ]
    },
    {
     "name": "stdout",
     "output_type": "stream",
     "text": [
      "Running ridge for e_X_U - scenario_5\n",
      "Running lasso for e_X_U - scenario_5\n"
     ]
    },
    {
     "name": "stderr",
     "output_type": "stream",
     "text": [
      "\n",
      "\u001b[A"
     ]
    },
    {
     "name": "stdout",
     "output_type": "stream",
     "text": [
      "Running rf for e_X_U - scenario_5\n"
     ]
    },
    {
     "name": "stderr",
     "output_type": "stream",
     "text": [
      "\n",
      "\u001b[A"
     ]
    },
    {
     "name": "stdout",
     "output_type": "stream",
     "text": [
      "Running gbr for e_X_U - scenario_5\n"
     ]
    },
    {
     "name": "stderr",
     "output_type": "stream",
     "text": [
      "\n",
      "\u001b[A"
     ]
    },
    {
     "name": "stdout",
     "output_type": "stream",
     "text": [
      "Running xgb for e_X_U - scenario_5\n"
     ]
    },
    {
     "name": "stderr",
     "output_type": "stream",
     "text": [
      "\n",
      "\u001b[A\n",
      "\u001b[A\n",
      "\u001b[A\n",
      "\u001b[A"
     ]
    },
    {
     "name": "stdout",
     "output_type": "stream",
     "text": [
      "Running ridge for e_X_U - scenario_6\n",
      "Running lasso for e_X_U - scenario_6\n"
     ]
    },
    {
     "name": "stderr",
     "output_type": "stream",
     "text": [
      "\n",
      "\u001b[A"
     ]
    },
    {
     "name": "stdout",
     "output_type": "stream",
     "text": [
      "Running rf for e_X_U - scenario_6\n"
     ]
    },
    {
     "name": "stderr",
     "output_type": "stream",
     "text": [
      "\n",
      "\u001b[A"
     ]
    },
    {
     "name": "stdout",
     "output_type": "stream",
     "text": [
      "Running gbr for e_X_U - scenario_6\n"
     ]
    },
    {
     "name": "stderr",
     "output_type": "stream",
     "text": [
      "\n",
      "\u001b[A"
     ]
    },
    {
     "name": "stdout",
     "output_type": "stream",
     "text": [
      "Running xgb for e_X_U - scenario_6\n"
     ]
    },
    {
     "name": "stderr",
     "output_type": "stream",
     "text": [
      "\n",
      "\u001b[A\n",
      "\u001b[A\n",
      "\u001b[A\n",
      "\u001b[A"
     ]
    },
    {
     "name": "stdout",
     "output_type": "stream",
     "text": [
      "Running ridge for e_X_U - scenario_8\n",
      "Running lasso for e_X_U - scenario_8\n"
     ]
    },
    {
     "name": "stderr",
     "output_type": "stream",
     "text": [
      "\n",
      "\u001b[A"
     ]
    },
    {
     "name": "stdout",
     "output_type": "stream",
     "text": [
      "Running rf for e_X_U - scenario_8\n"
     ]
    },
    {
     "name": "stderr",
     "output_type": "stream",
     "text": [
      "\n",
      "\u001b[A"
     ]
    },
    {
     "name": "stdout",
     "output_type": "stream",
     "text": [
      "Running gbr for e_X_U - scenario_8\n"
     ]
    },
    {
     "name": "stderr",
     "output_type": "stream",
     "text": [
      "\n",
      "\u001b[A"
     ]
    },
    {
     "name": "stdout",
     "output_type": "stream",
     "text": [
      "Running xgb for e_X_U - scenario_8\n"
     ]
    },
    {
     "name": "stderr",
     "output_type": "stream",
     "text": [
      "\n",
      "\u001b[A\n",
      "\u001b[A\n",
      "\u001b[A\n",
      "\u001b[A"
     ]
    },
    {
     "name": "stdout",
     "output_type": "stream",
     "text": [
      "Running ridge for e_X_U - scenario_9\n",
      "Running lasso for e_X_U - scenario_9\n"
     ]
    },
    {
     "name": "stderr",
     "output_type": "stream",
     "text": [
      "\n",
      "\u001b[A"
     ]
    },
    {
     "name": "stdout",
     "output_type": "stream",
     "text": [
      "Running rf for e_X_U - scenario_9\n"
     ]
    },
    {
     "name": "stderr",
     "output_type": "stream",
     "text": [
      "\n",
      "\u001b[A"
     ]
    },
    {
     "name": "stdout",
     "output_type": "stream",
     "text": [
      "Running gbr for e_X_U - scenario_9\n"
     ]
    },
    {
     "name": "stderr",
     "output_type": "stream",
     "text": [
      "\n",
      "\u001b[A"
     ]
    },
    {
     "name": "stdout",
     "output_type": "stream",
     "text": [
      "Running xgb for e_X_U - scenario_9\n"
     ]
    },
    {
     "name": "stderr",
     "output_type": "stream",
     "text": [
      "\n",
      "\u001b[A\n",
      "\u001b[A\n",
      "\u001b[A\n",
      "\u001b[A"
     ]
    },
    {
     "name": "stdout",
     "output_type": "stream",
     "text": [
      "Running ridge for e_X_U - scenario_10\n",
      "Running lasso for e_X_U - scenario_10\n"
     ]
    },
    {
     "name": "stderr",
     "output_type": "stream",
     "text": [
      "\n",
      "\u001b[A"
     ]
    },
    {
     "name": "stdout",
     "output_type": "stream",
     "text": [
      "Running rf for e_X_U - scenario_10\n"
     ]
    },
    {
     "name": "stderr",
     "output_type": "stream",
     "text": [
      "\n",
      "\u001b[A"
     ]
    },
    {
     "name": "stdout",
     "output_type": "stream",
     "text": [
      "Running gbr for e_X_U - scenario_10\n"
     ]
    },
    {
     "name": "stderr",
     "output_type": "stream",
     "text": [
      "\n",
      "\u001b[A"
     ]
    },
    {
     "name": "stdout",
     "output_type": "stream",
     "text": [
      "Running xgb for e_X_U - scenario_10\n"
     ]
    },
    {
     "name": "stderr",
     "output_type": "stream",
     "text": [
      "\n",
      "\u001b[A\n",
      "e_X_U Scenarios: 100%|██████████| 8/8 [05:57<00:00, 44.74s/it]\n",
      "Experiment Setups:  67%|██████▋   | 4/6 [25:37<12:37, 378.50s/it]\n",
      "\u001b[A\n",
      "\u001b[A"
     ]
    },
    {
     "name": "stdout",
     "output_type": "stream",
     "text": [
      "Running ridge for e_X_info_censor - scenario_1\n",
      "Running lasso for e_X_info_censor - scenario_1\n"
     ]
    },
    {
     "name": "stderr",
     "output_type": "stream",
     "text": [
      "\n",
      "\u001b[A"
     ]
    },
    {
     "name": "stdout",
     "output_type": "stream",
     "text": [
      "Running rf for e_X_info_censor - scenario_1\n"
     ]
    },
    {
     "name": "stderr",
     "output_type": "stream",
     "text": [
      "\n",
      "\u001b[A"
     ]
    },
    {
     "name": "stdout",
     "output_type": "stream",
     "text": [
      "Running gbr for e_X_info_censor - scenario_1\n"
     ]
    },
    {
     "name": "stderr",
     "output_type": "stream",
     "text": [
      "\n",
      "\u001b[A"
     ]
    },
    {
     "name": "stdout",
     "output_type": "stream",
     "text": [
      "Running xgb for e_X_info_censor - scenario_1\n"
     ]
    },
    {
     "name": "stderr",
     "output_type": "stream",
     "text": [
      "\n",
      "\u001b[A\n",
      "\u001b[A\n",
      "\u001b[A\n",
      "\u001b[A"
     ]
    },
    {
     "name": "stdout",
     "output_type": "stream",
     "text": [
      "Running ridge for e_X_info_censor - scenario_2\n",
      "Running lasso for e_X_info_censor - scenario_2\n"
     ]
    },
    {
     "name": "stderr",
     "output_type": "stream",
     "text": [
      "\n",
      "\u001b[A"
     ]
    },
    {
     "name": "stdout",
     "output_type": "stream",
     "text": [
      "Running rf for e_X_info_censor - scenario_2\n"
     ]
    },
    {
     "name": "stderr",
     "output_type": "stream",
     "text": [
      "\n",
      "\u001b[A"
     ]
    },
    {
     "name": "stdout",
     "output_type": "stream",
     "text": [
      "Running gbr for e_X_info_censor - scenario_2\n"
     ]
    },
    {
     "name": "stderr",
     "output_type": "stream",
     "text": [
      "\n",
      "\u001b[A"
     ]
    },
    {
     "name": "stdout",
     "output_type": "stream",
     "text": [
      "Running xgb for e_X_info_censor - scenario_2\n"
     ]
    },
    {
     "name": "stderr",
     "output_type": "stream",
     "text": [
      "\n",
      "\u001b[A\n",
      "\u001b[A\n",
      "\u001b[A"
     ]
    },
    {
     "name": "stdout",
     "output_type": "stream",
     "text": [
      "Running ridge for e_X_info_censor - scenario_3\n"
     ]
    },
    {
     "name": "stderr",
     "output_type": "stream",
     "text": [
      "\n",
      "\u001b[A"
     ]
    },
    {
     "name": "stdout",
     "output_type": "stream",
     "text": [
      "Running lasso for e_X_info_censor - scenario_3\n"
     ]
    },
    {
     "name": "stderr",
     "output_type": "stream",
     "text": [
      "\n",
      "\u001b[A"
     ]
    },
    {
     "name": "stdout",
     "output_type": "stream",
     "text": [
      "Running rf for e_X_info_censor - scenario_3\n"
     ]
    },
    {
     "name": "stderr",
     "output_type": "stream",
     "text": [
      "\n",
      "\u001b[A"
     ]
    },
    {
     "name": "stdout",
     "output_type": "stream",
     "text": [
      "Running gbr for e_X_info_censor - scenario_3\n"
     ]
    },
    {
     "name": "stderr",
     "output_type": "stream",
     "text": [
      "\n",
      "\u001b[A"
     ]
    },
    {
     "name": "stdout",
     "output_type": "stream",
     "text": [
      "Running xgb for e_X_info_censor - scenario_3\n"
     ]
    },
    {
     "name": "stderr",
     "output_type": "stream",
     "text": [
      "\n",
      "\u001b[A\n",
      "\u001b[A\n",
      "\u001b[A\n",
      "\u001b[A"
     ]
    },
    {
     "name": "stdout",
     "output_type": "stream",
     "text": [
      "Running ridge for e_X_info_censor - scenario_8\n",
      "Running lasso for e_X_info_censor - scenario_8\n"
     ]
    },
    {
     "name": "stderr",
     "output_type": "stream",
     "text": [
      "\n",
      "\u001b[A"
     ]
    },
    {
     "name": "stdout",
     "output_type": "stream",
     "text": [
      "Running rf for e_X_info_censor - scenario_8\n"
     ]
    },
    {
     "name": "stderr",
     "output_type": "stream",
     "text": [
      "\n",
      "\u001b[A"
     ]
    },
    {
     "name": "stdout",
     "output_type": "stream",
     "text": [
      "Running gbr for e_X_info_censor - scenario_8\n"
     ]
    },
    {
     "name": "stderr",
     "output_type": "stream",
     "text": [
      "\n",
      "\u001b[A"
     ]
    },
    {
     "name": "stdout",
     "output_type": "stream",
     "text": [
      "Running xgb for e_X_info_censor - scenario_8\n"
     ]
    },
    {
     "name": "stderr",
     "output_type": "stream",
     "text": [
      "\n",
      "\u001b[A\n",
      "\u001b[A\n",
      "\u001b[A"
     ]
    },
    {
     "name": "stdout",
     "output_type": "stream",
     "text": [
      "Running ridge for e_X_info_censor - scenario_9\n"
     ]
    },
    {
     "name": "stderr",
     "output_type": "stream",
     "text": [
      "\n",
      "\u001b[A"
     ]
    },
    {
     "name": "stdout",
     "output_type": "stream",
     "text": [
      "Running lasso for e_X_info_censor - scenario_9\n"
     ]
    },
    {
     "name": "stderr",
     "output_type": "stream",
     "text": [
      "\n",
      "\u001b[A"
     ]
    },
    {
     "name": "stdout",
     "output_type": "stream",
     "text": [
      "Running rf for e_X_info_censor - scenario_9\n"
     ]
    },
    {
     "name": "stderr",
     "output_type": "stream",
     "text": [
      "\n",
      "\u001b[A"
     ]
    },
    {
     "name": "stdout",
     "output_type": "stream",
     "text": [
      "Running gbr for e_X_info_censor - scenario_9\n"
     ]
    },
    {
     "name": "stderr",
     "output_type": "stream",
     "text": [
      "\n",
      "\u001b[A"
     ]
    },
    {
     "name": "stdout",
     "output_type": "stream",
     "text": [
      "Running xgb for e_X_info_censor - scenario_9\n"
     ]
    },
    {
     "name": "stderr",
     "output_type": "stream",
     "text": [
      "\n",
      "\u001b[A\n",
      "e_X_info_censor Scenarios: 100%|██████████| 5/5 [03:58<00:00, 47.66s/it]\n",
      "Experiment Setups:  83%|████████▎ | 5/6 [29:36<05:27, 327.94s/it]\n",
      "\u001b[A\n",
      "\u001b[A"
     ]
    },
    {
     "name": "stdout",
     "output_type": "stream",
     "text": [
      "Running ridge for e_X_U_info_censor - scenario_1\n",
      "Running lasso for e_X_U_info_censor - scenario_1\n"
     ]
    },
    {
     "name": "stderr",
     "output_type": "stream",
     "text": [
      "\n",
      "\u001b[A"
     ]
    },
    {
     "name": "stdout",
     "output_type": "stream",
     "text": [
      "Running rf for e_X_U_info_censor - scenario_1\n"
     ]
    },
    {
     "name": "stderr",
     "output_type": "stream",
     "text": [
      "\n",
      "\u001b[A"
     ]
    },
    {
     "name": "stdout",
     "output_type": "stream",
     "text": [
      "Running gbr for e_X_U_info_censor - scenario_1\n"
     ]
    },
    {
     "name": "stderr",
     "output_type": "stream",
     "text": [
      "\n",
      "\u001b[A"
     ]
    },
    {
     "name": "stdout",
     "output_type": "stream",
     "text": [
      "Running xgb for e_X_U_info_censor - scenario_1\n"
     ]
    },
    {
     "name": "stderr",
     "output_type": "stream",
     "text": [
      "\n",
      "\u001b[A\n",
      "\u001b[A\n",
      "\u001b[A\n",
      "\u001b[A"
     ]
    },
    {
     "name": "stdout",
     "output_type": "stream",
     "text": [
      "Running ridge for e_X_U_info_censor - scenario_2\n",
      "Running lasso for e_X_U_info_censor - scenario_2\n"
     ]
    },
    {
     "name": "stderr",
     "output_type": "stream",
     "text": [
      "\n",
      "\u001b[A"
     ]
    },
    {
     "name": "stdout",
     "output_type": "stream",
     "text": [
      "Running rf for e_X_U_info_censor - scenario_2\n"
     ]
    },
    {
     "name": "stderr",
     "output_type": "stream",
     "text": [
      "\n",
      "\u001b[A"
     ]
    },
    {
     "name": "stdout",
     "output_type": "stream",
     "text": [
      "Running gbr for e_X_U_info_censor - scenario_2\n"
     ]
    },
    {
     "name": "stderr",
     "output_type": "stream",
     "text": [
      "\n",
      "\u001b[A"
     ]
    },
    {
     "name": "stdout",
     "output_type": "stream",
     "text": [
      "Running xgb for e_X_U_info_censor - scenario_2\n"
     ]
    },
    {
     "name": "stderr",
     "output_type": "stream",
     "text": [
      "\n",
      "\u001b[A\n",
      "\u001b[A\n",
      "\u001b[A\n",
      "\u001b[A"
     ]
    },
    {
     "name": "stdout",
     "output_type": "stream",
     "text": [
      "Running ridge for e_X_U_info_censor - scenario_3\n",
      "Running lasso for e_X_U_info_censor - scenario_3\n"
     ]
    },
    {
     "name": "stderr",
     "output_type": "stream",
     "text": [
      "\n",
      "\u001b[A"
     ]
    },
    {
     "name": "stdout",
     "output_type": "stream",
     "text": [
      "Running rf for e_X_U_info_censor - scenario_3\n"
     ]
    },
    {
     "name": "stderr",
     "output_type": "stream",
     "text": [
      "\n",
      "\u001b[A"
     ]
    },
    {
     "name": "stdout",
     "output_type": "stream",
     "text": [
      "Running gbr for e_X_U_info_censor - scenario_3\n"
     ]
    },
    {
     "name": "stderr",
     "output_type": "stream",
     "text": [
      "\n",
      "\u001b[A"
     ]
    },
    {
     "name": "stdout",
     "output_type": "stream",
     "text": [
      "Running xgb for e_X_U_info_censor - scenario_3\n"
     ]
    },
    {
     "name": "stderr",
     "output_type": "stream",
     "text": [
      "\n",
      "\u001b[A\n",
      "\u001b[A\n",
      "\u001b[A\n",
      "\u001b[A"
     ]
    },
    {
     "name": "stdout",
     "output_type": "stream",
     "text": [
      "Running ridge for e_X_U_info_censor - scenario_8\n",
      "Running lasso for e_X_U_info_censor - scenario_8\n"
     ]
    },
    {
     "name": "stderr",
     "output_type": "stream",
     "text": [
      "\n",
      "\u001b[A"
     ]
    },
    {
     "name": "stdout",
     "output_type": "stream",
     "text": [
      "Running rf for e_X_U_info_censor - scenario_8\n"
     ]
    },
    {
     "name": "stderr",
     "output_type": "stream",
     "text": [
      "\n",
      "\u001b[A"
     ]
    },
    {
     "name": "stdout",
     "output_type": "stream",
     "text": [
      "Running gbr for e_X_U_info_censor - scenario_8\n"
     ]
    },
    {
     "name": "stderr",
     "output_type": "stream",
     "text": [
      "\n",
      "\u001b[A"
     ]
    },
    {
     "name": "stdout",
     "output_type": "stream",
     "text": [
      "Running xgb for e_X_U_info_censor - scenario_8\n"
     ]
    },
    {
     "name": "stderr",
     "output_type": "stream",
     "text": [
      "\n",
      "\u001b[A\n",
      "\u001b[A\n",
      "\u001b[A\n",
      "\u001b[A"
     ]
    },
    {
     "name": "stdout",
     "output_type": "stream",
     "text": [
      "Running ridge for e_X_U_info_censor - scenario_9\n",
      "Running lasso for e_X_U_info_censor - scenario_9\n"
     ]
    },
    {
     "name": "stderr",
     "output_type": "stream",
     "text": [
      "\n",
      "\u001b[A"
     ]
    },
    {
     "name": "stdout",
     "output_type": "stream",
     "text": [
      "Running rf for e_X_U_info_censor - scenario_9\n"
     ]
    },
    {
     "name": "stderr",
     "output_type": "stream",
     "text": [
      "\n",
      "\u001b[A"
     ]
    },
    {
     "name": "stdout",
     "output_type": "stream",
     "text": [
      "Running gbr for e_X_U_info_censor - scenario_9\n"
     ]
    },
    {
     "name": "stderr",
     "output_type": "stream",
     "text": [
      "\n",
      "\u001b[A"
     ]
    },
    {
     "name": "stdout",
     "output_type": "stream",
     "text": [
      "Running xgb for e_X_U_info_censor - scenario_9\n"
     ]
    },
    {
     "name": "stderr",
     "output_type": "stream",
     "text": [
      "\n",
      "\u001b[A\n",
      "e_X_U_info_censor Scenarios: 100%|██████████| 5/5 [03:51<00:00, 46.26s/it]\n",
      "Experiment Setups: 100%|██████████| 6/6 [33:27<00:00, 334.58s/it]\n"
     ]
    }
   ],
   "source": [
    "random_idx_col_list = [\"random_idx0\"]\n",
    "failure_times_grid_size = 500\n",
    "output_pickle_path = \"causal_impute_t_learner_random_idx0_train_45000.pkl\"\n",
    "\n",
    "base_regressors = ['ridge', 'lasso', 'rf', 'gbr', 'xgb']\n",
    "\n",
    "for setup_name, setup_dict in tqdm(experiment_setups.items(), desc=\"Experiment Setups\"):\n",
    "    for scenario_key in tqdm(setup_dict, desc=f\"{setup_name} Scenarios\"):\n",
    "        dataset_df = setup_dict[scenario_key][\"dataset\"]\n",
    "        split_dict = prepare_data_split(dataset_df, experiment_repeat_setups, random_idx_col_list)\n",
    "\n",
    "        if \"result\" not in experiment_setups[setup_name][scenario_key]:\n",
    "            experiment_setups[setup_name][scenario_key][\"result\"] = {}\n",
    "\n",
    "\n",
    "        # For each base model, we will run the TLearner\n",
    "        for base_model in tqdm(base_regressors, desc=\"Base Models\", leave=False):\n",
    "            print(f\"Running {base_model} for {setup_name} - {scenario_key}\")\n",
    "            \n",
    "            # Store placeholder for later population\n",
    "            experiment_setups[setup_name][scenario_key][\"result\"][base_model] = {}\n",
    "\n",
    "            \n",
    "            start_time = time.time()\n",
    "\n",
    "            for col in random_idx_col_list:\n",
    "                X_train, W_train, Y_train, X_test, W_test, Y_test, CATE_test_true = split_dict[col]\n",
    "\n",
    "                ##################################\n",
    "                # TODO: Imputation Step\n",
    "                Y_train = Y_train[:, 0]  # observed_time\n",
    "                Y_test  = Y_test[:, 0]   # observed_time\n",
    "                ##################################\n",
    "                \n",
    "                \n",
    "                learner = TLearner(base_model_name=base_model)\n",
    "                learner.fit(X_train, W_train, Y_train)\n",
    "                mse_test, CATE_test_pred = learner.evaluate(X_test, CATE_test_true)\n",
    "\n",
    "                experiment_setups[setup_name][scenario_key][\"result\"][base_model][col] = {\n",
    "                    \"CATE_true\": CATE_test_true,\n",
    "                    \"CATE_Pred\": CATE_test_pred,\n",
    "                    \"CATE_MSE\": mse_test\n",
    "                }\n",
    "\n",
    "            end_time = time.time()\n",
    "\n",
    "            experiment_setups[setup_name][scenario_key][\"result\"][base_model][\"average\"] = {\n",
    "                \"mean_CATE_MSE\": np.mean([experiment_setups[setup_name][scenario_key][\"result\"][base_model][col][\"CATE_MSE\"]\n",
    "                                        for col in random_idx_col_list]),\n",
    "                \"std_CATE_MSE\":  np.std( [experiment_setups[setup_name][scenario_key][\"result\"][base_model][col][\"CATE_MSE\"]\n",
    "                                        for col in random_idx_col_list]),\n",
    "                \"runtime\": (end_time - start_time) / len(random_idx_col_list)\n",
    "            }\n",
    "\n",
    "            # Save progress to disk\n",
    "            # with open(output_pickle_path, \"wb\") as f:\n",
    "                # pickle.dump(experiment_setups, f)\n",
    "            \n",
    "            # break\n",
    "        # break\n",
    "    # break\n",
    "            \n"
   ]
  },
  {
   "cell_type": "code",
   "execution_count": 11,
   "metadata": {},
   "outputs": [],
   "source": [
    "def summarize_experiment_results(experiment_setups, base_regressors):\n",
    "    records = []\n",
    "\n",
    "    for setup_name, setup_dict in experiment_setups.items():\n",
    "        for scenario_key in setup_dict:\n",
    "            row = {\n",
    "                (\"setup_name\", \"\"): setup_name,\n",
    "                (\"scenario_key\", \"\"): scenario_key\n",
    "            }\n",
    "\n",
    "            for base_model in base_regressors:\n",
    "                avg_result = setup_dict[scenario_key].get(\"result\", {}).get(base_model, {}).get(\"average\", {})\n",
    "                mean_mse = avg_result.get(\"mean_CATE_MSE\", np.nan)\n",
    "                std_mse = avg_result.get(\"std_CATE_MSE\", np.nan)\n",
    "                runtime = avg_result.get(\"runtime\", np.nan)\n",
    "\n",
    "                row[(base_model, \"mean_CATE_mse\")] = round(mean_mse, 4) if not pd.isna(mean_mse) else np.nan\n",
    "                # row[(base_model, \"std_CATE_mse\")] = round(std_mse, 4) if not pd.isna(std_mse) else np.nan\n",
    "                row[(base_model, \"runtime [s]\")] = round(runtime, 4) if not pd.isna(runtime) else np.nan\n",
    "\n",
    "            records.append(row)\n",
    "\n",
    "    df = pd.DataFrame.from_records(records)\n",
    "    df.columns = pd.MultiIndex.from_tuples(df.columns)\n",
    "    return df\n"
   ]
  },
  {
   "cell_type": "code",
   "execution_count": 12,
   "metadata": {},
   "outputs": [
    {
     "name": "stdout",
     "output_type": "stream",
     "text": [
      "T-Learner Results\n"
     ]
    },
    {
     "data": {
      "text/html": [
       "<div>\n",
       "<style scoped>\n",
       "    .dataframe tbody tr th:only-of-type {\n",
       "        vertical-align: middle;\n",
       "    }\n",
       "\n",
       "    .dataframe tbody tr th {\n",
       "        vertical-align: top;\n",
       "    }\n",
       "\n",
       "    .dataframe thead tr th {\n",
       "        text-align: left;\n",
       "    }\n",
       "</style>\n",
       "<table border=\"1\" class=\"dataframe\">\n",
       "  <thead>\n",
       "    <tr>\n",
       "      <th></th>\n",
       "      <th>setup_name</th>\n",
       "      <th>scenario_key</th>\n",
       "      <th colspan=\"2\" halign=\"left\">ridge</th>\n",
       "      <th colspan=\"2\" halign=\"left\">lasso</th>\n",
       "      <th colspan=\"2\" halign=\"left\">rf</th>\n",
       "      <th colspan=\"2\" halign=\"left\">gbr</th>\n",
       "      <th colspan=\"2\" halign=\"left\">xgb</th>\n",
       "    </tr>\n",
       "    <tr>\n",
       "      <th></th>\n",
       "      <th></th>\n",
       "      <th></th>\n",
       "      <th>mean_CATE_mse</th>\n",
       "      <th>runtime [s]</th>\n",
       "      <th>mean_CATE_mse</th>\n",
       "      <th>runtime [s]</th>\n",
       "      <th>mean_CATE_mse</th>\n",
       "      <th>runtime [s]</th>\n",
       "      <th>mean_CATE_mse</th>\n",
       "      <th>runtime [s]</th>\n",
       "      <th>mean_CATE_mse</th>\n",
       "      <th>runtime [s]</th>\n",
       "    </tr>\n",
       "  </thead>\n",
       "  <tbody>\n",
       "    <tr>\n",
       "      <th>0</th>\n",
       "      <td>RCT_0_5</td>\n",
       "      <td>scenario_1</td>\n",
       "      <td>0.6923</td>\n",
       "      <td>1.4245</td>\n",
       "      <td>0.6924</td>\n",
       "      <td>0.3251</td>\n",
       "      <td>0.6900</td>\n",
       "      <td>24.9766</td>\n",
       "      <td>0.6906</td>\n",
       "      <td>19.5486</td>\n",
       "      <td>0.6907</td>\n",
       "      <td>1.5611</td>\n",
       "    </tr>\n",
       "    <tr>\n",
       "      <th>1</th>\n",
       "      <td>RCT_0_5</td>\n",
       "      <td>scenario_2</td>\n",
       "      <td>15.8143</td>\n",
       "      <td>0.2101</td>\n",
       "      <td>15.8140</td>\n",
       "      <td>0.2526</td>\n",
       "      <td>15.8130</td>\n",
       "      <td>26.2517</td>\n",
       "      <td>15.8108</td>\n",
       "      <td>19.4713</td>\n",
       "      <td>15.8059</td>\n",
       "      <td>1.0358</td>\n",
       "    </tr>\n",
       "    <tr>\n",
       "      <th>2</th>\n",
       "      <td>RCT_0_5</td>\n",
       "      <td>scenario_3</td>\n",
       "      <td>14.5100</td>\n",
       "      <td>0.2655</td>\n",
       "      <td>14.5073</td>\n",
       "      <td>0.4615</td>\n",
       "      <td>14.5023</td>\n",
       "      <td>25.2898</td>\n",
       "      <td>14.5142</td>\n",
       "      <td>19.5803</td>\n",
       "      <td>14.5237</td>\n",
       "      <td>1.0507</td>\n",
       "    </tr>\n",
       "    <tr>\n",
       "      <th>3</th>\n",
       "      <td>RCT_0_5</td>\n",
       "      <td>scenario_5</td>\n",
       "      <td>14.6204</td>\n",
       "      <td>0.1831</td>\n",
       "      <td>14.6207</td>\n",
       "      <td>0.2401</td>\n",
       "      <td>14.6803</td>\n",
       "      <td>23.1341</td>\n",
       "      <td>14.6664</td>\n",
       "      <td>20.8295</td>\n",
       "      <td>14.6619</td>\n",
       "      <td>0.9518</td>\n",
       "    </tr>\n",
       "    <tr>\n",
       "      <th>4</th>\n",
       "      <td>RCT_0_5</td>\n",
       "      <td>scenario_6</td>\n",
       "      <td>15.0242</td>\n",
       "      <td>0.1852</td>\n",
       "      <td>15.0299</td>\n",
       "      <td>0.2494</td>\n",
       "      <td>15.0758</td>\n",
       "      <td>24.9503</td>\n",
       "      <td>15.0699</td>\n",
       "      <td>19.5163</td>\n",
       "      <td>15.0607</td>\n",
       "      <td>0.8408</td>\n",
       "    </tr>\n",
       "    <tr>\n",
       "      <th>5</th>\n",
       "      <td>RCT_0_5</td>\n",
       "      <td>scenario_8</td>\n",
       "      <td>17.2597</td>\n",
       "      <td>0.1934</td>\n",
       "      <td>17.2528</td>\n",
       "      <td>0.2498</td>\n",
       "      <td>17.2517</td>\n",
       "      <td>31.8656</td>\n",
       "      <td>17.2482</td>\n",
       "      <td>20.6778</td>\n",
       "      <td>17.2464</td>\n",
       "      <td>0.8838</td>\n",
       "    </tr>\n",
       "    <tr>\n",
       "      <th>6</th>\n",
       "      <td>RCT_0_5</td>\n",
       "      <td>scenario_9</td>\n",
       "      <td>43.1339</td>\n",
       "      <td>0.1982</td>\n",
       "      <td>43.1336</td>\n",
       "      <td>0.2858</td>\n",
       "      <td>43.1075</td>\n",
       "      <td>24.5429</td>\n",
       "      <td>43.1196</td>\n",
       "      <td>19.7634</td>\n",
       "      <td>43.1231</td>\n",
       "      <td>0.7650</td>\n",
       "    </tr>\n",
       "    <tr>\n",
       "      <th>7</th>\n",
       "      <td>RCT_0_5</td>\n",
       "      <td>scenario_10</td>\n",
       "      <td>15.8455</td>\n",
       "      <td>0.1883</td>\n",
       "      <td>15.8559</td>\n",
       "      <td>0.2758</td>\n",
       "      <td>15.8183</td>\n",
       "      <td>26.9769</td>\n",
       "      <td>15.8524</td>\n",
       "      <td>21.4635</td>\n",
       "      <td>15.8591</td>\n",
       "      <td>1.0295</td>\n",
       "    </tr>\n",
       "    <tr>\n",
       "      <th>8</th>\n",
       "      <td>RCT_0_05</td>\n",
       "      <td>scenario_1</td>\n",
       "      <td>0.6919</td>\n",
       "      <td>0.2706</td>\n",
       "      <td>0.6918</td>\n",
       "      <td>0.3179</td>\n",
       "      <td>0.6913</td>\n",
       "      <td>31.1490</td>\n",
       "      <td>0.7031</td>\n",
       "      <td>21.2880</td>\n",
       "      <td>0.6915</td>\n",
       "      <td>1.0316</td>\n",
       "    </tr>\n",
       "    <tr>\n",
       "      <th>9</th>\n",
       "      <td>RCT_0_05</td>\n",
       "      <td>scenario_2</td>\n",
       "      <td>15.8345</td>\n",
       "      <td>0.2784</td>\n",
       "      <td>15.8404</td>\n",
       "      <td>0.3195</td>\n",
       "      <td>15.8501</td>\n",
       "      <td>29.5224</td>\n",
       "      <td>15.8848</td>\n",
       "      <td>21.9545</td>\n",
       "      <td>15.8808</td>\n",
       "      <td>0.9894</td>\n",
       "    </tr>\n",
       "    <tr>\n",
       "      <th>10</th>\n",
       "      <td>RCT_0_05</td>\n",
       "      <td>scenario_3</td>\n",
       "      <td>14.5072</td>\n",
       "      <td>0.2593</td>\n",
       "      <td>14.5032</td>\n",
       "      <td>0.3049</td>\n",
       "      <td>14.6243</td>\n",
       "      <td>27.9829</td>\n",
       "      <td>14.6309</td>\n",
       "      <td>21.7666</td>\n",
       "      <td>14.6462</td>\n",
       "      <td>0.9239</td>\n",
       "    </tr>\n",
       "    <tr>\n",
       "      <th>11</th>\n",
       "      <td>RCT_0_05</td>\n",
       "      <td>scenario_5</td>\n",
       "      <td>14.6307</td>\n",
       "      <td>0.2521</td>\n",
       "      <td>14.6307</td>\n",
       "      <td>0.3206</td>\n",
       "      <td>14.7462</td>\n",
       "      <td>27.8073</td>\n",
       "      <td>14.8301</td>\n",
       "      <td>21.5818</td>\n",
       "      <td>14.8204</td>\n",
       "      <td>1.1047</td>\n",
       "    </tr>\n",
       "    <tr>\n",
       "      <th>12</th>\n",
       "      <td>RCT_0_05</td>\n",
       "      <td>scenario_6</td>\n",
       "      <td>15.0230</td>\n",
       "      <td>0.2600</td>\n",
       "      <td>15.0275</td>\n",
       "      <td>0.3161</td>\n",
       "      <td>15.0506</td>\n",
       "      <td>29.4087</td>\n",
       "      <td>15.0831</td>\n",
       "      <td>21.3626</td>\n",
       "      <td>15.0862</td>\n",
       "      <td>1.0953</td>\n",
       "    </tr>\n",
       "    <tr>\n",
       "      <th>13</th>\n",
       "      <td>RCT_0_05</td>\n",
       "      <td>scenario_8</td>\n",
       "      <td>17.2416</td>\n",
       "      <td>0.3001</td>\n",
       "      <td>17.2538</td>\n",
       "      <td>0.3460</td>\n",
       "      <td>17.2391</td>\n",
       "      <td>33.8748</td>\n",
       "      <td>17.2580</td>\n",
       "      <td>21.1547</td>\n",
       "      <td>17.2636</td>\n",
       "      <td>0.7801</td>\n",
       "    </tr>\n",
       "    <tr>\n",
       "      <th>14</th>\n",
       "      <td>RCT_0_05</td>\n",
       "      <td>scenario_9</td>\n",
       "      <td>43.1115</td>\n",
       "      <td>0.2502</td>\n",
       "      <td>43.1101</td>\n",
       "      <td>0.2967</td>\n",
       "      <td>43.0949</td>\n",
       "      <td>26.9614</td>\n",
       "      <td>43.1058</td>\n",
       "      <td>20.4679</td>\n",
       "      <td>43.0996</td>\n",
       "      <td>0.7606</td>\n",
       "    </tr>\n",
       "    <tr>\n",
       "      <th>15</th>\n",
       "      <td>RCT_0_05</td>\n",
       "      <td>scenario_10</td>\n",
       "      <td>15.8764</td>\n",
       "      <td>0.2299</td>\n",
       "      <td>15.8826</td>\n",
       "      <td>0.3050</td>\n",
       "      <td>15.9550</td>\n",
       "      <td>31.5867</td>\n",
       "      <td>15.9193</td>\n",
       "      <td>21.4342</td>\n",
       "      <td>15.8988</td>\n",
       "      <td>1.2281</td>\n",
       "    </tr>\n",
       "    <tr>\n",
       "      <th>16</th>\n",
       "      <td>e_X</td>\n",
       "      <td>scenario_1</td>\n",
       "      <td>0.6932</td>\n",
       "      <td>0.1997</td>\n",
       "      <td>0.6934</td>\n",
       "      <td>0.2888</td>\n",
       "      <td>0.6894</td>\n",
       "      <td>23.9494</td>\n",
       "      <td>0.6903</td>\n",
       "      <td>20.0258</td>\n",
       "      <td>0.6885</td>\n",
       "      <td>0.9048</td>\n",
       "    </tr>\n",
       "    <tr>\n",
       "      <th>17</th>\n",
       "      <td>e_X</td>\n",
       "      <td>scenario_2</td>\n",
       "      <td>15.8061</td>\n",
       "      <td>0.1927</td>\n",
       "      <td>15.8079</td>\n",
       "      <td>0.2550</td>\n",
       "      <td>15.8166</td>\n",
       "      <td>26.2630</td>\n",
       "      <td>15.8107</td>\n",
       "      <td>19.0085</td>\n",
       "      <td>15.8048</td>\n",
       "      <td>0.8436</td>\n",
       "    </tr>\n",
       "    <tr>\n",
       "      <th>18</th>\n",
       "      <td>e_X</td>\n",
       "      <td>scenario_3</td>\n",
       "      <td>14.5287</td>\n",
       "      <td>0.1963</td>\n",
       "      <td>14.5223</td>\n",
       "      <td>0.4957</td>\n",
       "      <td>14.5253</td>\n",
       "      <td>24.1663</td>\n",
       "      <td>14.5622</td>\n",
       "      <td>19.7773</td>\n",
       "      <td>14.5627</td>\n",
       "      <td>1.3402</td>\n",
       "    </tr>\n",
       "    <tr>\n",
       "      <th>19</th>\n",
       "      <td>e_X</td>\n",
       "      <td>scenario_5</td>\n",
       "      <td>14.6475</td>\n",
       "      <td>0.2037</td>\n",
       "      <td>14.6448</td>\n",
       "      <td>0.2917</td>\n",
       "      <td>14.6950</td>\n",
       "      <td>25.9445</td>\n",
       "      <td>14.6825</td>\n",
       "      <td>21.1120</td>\n",
       "      <td>14.7230</td>\n",
       "      <td>0.8549</td>\n",
       "    </tr>\n",
       "    <tr>\n",
       "      <th>20</th>\n",
       "      <td>e_X</td>\n",
       "      <td>scenario_6</td>\n",
       "      <td>15.0196</td>\n",
       "      <td>0.2183</td>\n",
       "      <td>15.0205</td>\n",
       "      <td>0.4038</td>\n",
       "      <td>15.0695</td>\n",
       "      <td>23.1185</td>\n",
       "      <td>15.0501</td>\n",
       "      <td>19.5675</td>\n",
       "      <td>15.0382</td>\n",
       "      <td>0.9364</td>\n",
       "    </tr>\n",
       "    <tr>\n",
       "      <th>21</th>\n",
       "      <td>e_X</td>\n",
       "      <td>scenario_8</td>\n",
       "      <td>17.2591</td>\n",
       "      <td>0.1803</td>\n",
       "      <td>17.3012</td>\n",
       "      <td>0.5323</td>\n",
       "      <td>17.2661</td>\n",
       "      <td>29.3815</td>\n",
       "      <td>17.2812</td>\n",
       "      <td>21.2535</td>\n",
       "      <td>17.2841</td>\n",
       "      <td>0.9429</td>\n",
       "    </tr>\n",
       "    <tr>\n",
       "      <th>22</th>\n",
       "      <td>e_X</td>\n",
       "      <td>scenario_9</td>\n",
       "      <td>43.1227</td>\n",
       "      <td>0.1711</td>\n",
       "      <td>43.1245</td>\n",
       "      <td>0.2318</td>\n",
       "      <td>43.0905</td>\n",
       "      <td>24.4019</td>\n",
       "      <td>43.1097</td>\n",
       "      <td>19.1128</td>\n",
       "      <td>43.1055</td>\n",
       "      <td>0.7726</td>\n",
       "    </tr>\n",
       "    <tr>\n",
       "      <th>23</th>\n",
       "      <td>e_X</td>\n",
       "      <td>scenario_10</td>\n",
       "      <td>15.8670</td>\n",
       "      <td>0.1706</td>\n",
       "      <td>15.8664</td>\n",
       "      <td>0.2364</td>\n",
       "      <td>15.8422</td>\n",
       "      <td>27.7801</td>\n",
       "      <td>15.9345</td>\n",
       "      <td>18.6757</td>\n",
       "      <td>15.8787</td>\n",
       "      <td>0.8501</td>\n",
       "    </tr>\n",
       "    <tr>\n",
       "      <th>24</th>\n",
       "      <td>e_X_U</td>\n",
       "      <td>scenario_1</td>\n",
       "      <td>0.6928</td>\n",
       "      <td>0.2006</td>\n",
       "      <td>0.6929</td>\n",
       "      <td>0.2536</td>\n",
       "      <td>0.6910</td>\n",
       "      <td>23.4879</td>\n",
       "      <td>0.6912</td>\n",
       "      <td>18.5048</td>\n",
       "      <td>0.6907</td>\n",
       "      <td>0.8187</td>\n",
       "    </tr>\n",
       "    <tr>\n",
       "      <th>25</th>\n",
       "      <td>e_X_U</td>\n",
       "      <td>scenario_2</td>\n",
       "      <td>15.8173</td>\n",
       "      <td>0.1777</td>\n",
       "      <td>15.8191</td>\n",
       "      <td>0.2296</td>\n",
       "      <td>15.8213</td>\n",
       "      <td>24.3992</td>\n",
       "      <td>15.8211</td>\n",
       "      <td>18.3722</td>\n",
       "      <td>15.8215</td>\n",
       "      <td>0.8146</td>\n",
       "    </tr>\n",
       "    <tr>\n",
       "      <th>26</th>\n",
       "      <td>e_X_U</td>\n",
       "      <td>scenario_3</td>\n",
       "      <td>14.5188</td>\n",
       "      <td>0.1888</td>\n",
       "      <td>14.5204</td>\n",
       "      <td>0.2261</td>\n",
       "      <td>14.5154</td>\n",
       "      <td>24.4260</td>\n",
       "      <td>14.5264</td>\n",
       "      <td>18.5047</td>\n",
       "      <td>14.5297</td>\n",
       "      <td>1.3159</td>\n",
       "    </tr>\n",
       "    <tr>\n",
       "      <th>27</th>\n",
       "      <td>e_X_U</td>\n",
       "      <td>scenario_5</td>\n",
       "      <td>14.6957</td>\n",
       "      <td>0.1871</td>\n",
       "      <td>14.6956</td>\n",
       "      <td>0.2141</td>\n",
       "      <td>14.7149</td>\n",
       "      <td>24.6178</td>\n",
       "      <td>14.7128</td>\n",
       "      <td>18.5498</td>\n",
       "      <td>14.8279</td>\n",
       "      <td>0.7469</td>\n",
       "    </tr>\n",
       "    <tr>\n",
       "      <th>28</th>\n",
       "      <td>e_X_U</td>\n",
       "      <td>scenario_6</td>\n",
       "      <td>15.0279</td>\n",
       "      <td>0.1915</td>\n",
       "      <td>15.0324</td>\n",
       "      <td>0.2935</td>\n",
       "      <td>15.0678</td>\n",
       "      <td>23.3957</td>\n",
       "      <td>15.0467</td>\n",
       "      <td>18.5376</td>\n",
       "      <td>15.0268</td>\n",
       "      <td>0.7431</td>\n",
       "    </tr>\n",
       "    <tr>\n",
       "      <th>29</th>\n",
       "      <td>e_X_U</td>\n",
       "      <td>scenario_8</td>\n",
       "      <td>17.2711</td>\n",
       "      <td>0.1814</td>\n",
       "      <td>17.2804</td>\n",
       "      <td>0.2298</td>\n",
       "      <td>17.2871</td>\n",
       "      <td>30.1246</td>\n",
       "      <td>17.2800</td>\n",
       "      <td>18.7875</td>\n",
       "      <td>17.2760</td>\n",
       "      <td>0.7593</td>\n",
       "    </tr>\n",
       "    <tr>\n",
       "      <th>30</th>\n",
       "      <td>e_X_U</td>\n",
       "      <td>scenario_9</td>\n",
       "      <td>43.1229</td>\n",
       "      <td>0.1822</td>\n",
       "      <td>43.1235</td>\n",
       "      <td>0.2284</td>\n",
       "      <td>43.0864</td>\n",
       "      <td>22.8697</td>\n",
       "      <td>43.1084</td>\n",
       "      <td>18.4090</td>\n",
       "      <td>43.1149</td>\n",
       "      <td>0.7772</td>\n",
       "    </tr>\n",
       "    <tr>\n",
       "      <th>31</th>\n",
       "      <td>e_X_U</td>\n",
       "      <td>scenario_10</td>\n",
       "      <td>15.8662</td>\n",
       "      <td>0.1772</td>\n",
       "      <td>15.8637</td>\n",
       "      <td>0.2691</td>\n",
       "      <td>15.9155</td>\n",
       "      <td>25.9754</td>\n",
       "      <td>15.9212</td>\n",
       "      <td>18.6277</td>\n",
       "      <td>15.8910</td>\n",
       "      <td>0.7804</td>\n",
       "    </tr>\n",
       "    <tr>\n",
       "      <th>32</th>\n",
       "      <td>e_X_info_censor</td>\n",
       "      <td>scenario_1</td>\n",
       "      <td>0.6864</td>\n",
       "      <td>0.1924</td>\n",
       "      <td>0.6865</td>\n",
       "      <td>0.2843</td>\n",
       "      <td>0.6850</td>\n",
       "      <td>23.9557</td>\n",
       "      <td>0.6873</td>\n",
       "      <td>18.8541</td>\n",
       "      <td>0.6831</td>\n",
       "      <td>1.3243</td>\n",
       "    </tr>\n",
       "    <tr>\n",
       "      <th>33</th>\n",
       "      <td>e_X_info_censor</td>\n",
       "      <td>scenario_2</td>\n",
       "      <td>15.7771</td>\n",
       "      <td>0.1932</td>\n",
       "      <td>15.7785</td>\n",
       "      <td>0.4223</td>\n",
       "      <td>15.7982</td>\n",
       "      <td>25.4453</td>\n",
       "      <td>15.7924</td>\n",
       "      <td>19.2659</td>\n",
       "      <td>15.7842</td>\n",
       "      <td>1.1426</td>\n",
       "    </tr>\n",
       "    <tr>\n",
       "      <th>34</th>\n",
       "      <td>e_X_info_censor</td>\n",
       "      <td>scenario_3</td>\n",
       "      <td>15.5078</td>\n",
       "      <td>0.2091</td>\n",
       "      <td>15.4881</td>\n",
       "      <td>0.4370</td>\n",
       "      <td>15.4950</td>\n",
       "      <td>28.9861</td>\n",
       "      <td>15.4614</td>\n",
       "      <td>20.5767</td>\n",
       "      <td>15.4590</td>\n",
       "      <td>0.8022</td>\n",
       "    </tr>\n",
       "    <tr>\n",
       "      <th>35</th>\n",
       "      <td>e_X_info_censor</td>\n",
       "      <td>scenario_8</td>\n",
       "      <td>17.4853</td>\n",
       "      <td>0.1706</td>\n",
       "      <td>17.4666</td>\n",
       "      <td>0.2273</td>\n",
       "      <td>17.4734</td>\n",
       "      <td>28.7136</td>\n",
       "      <td>17.4368</td>\n",
       "      <td>19.1466</td>\n",
       "      <td>17.4380</td>\n",
       "      <td>0.9139</td>\n",
       "    </tr>\n",
       "    <tr>\n",
       "      <th>36</th>\n",
       "      <td>e_X_info_censor</td>\n",
       "      <td>scenario_9</td>\n",
       "      <td>42.4570</td>\n",
       "      <td>0.2068</td>\n",
       "      <td>42.4574</td>\n",
       "      <td>0.2330</td>\n",
       "      <td>42.3993</td>\n",
       "      <td>26.5697</td>\n",
       "      <td>42.4038</td>\n",
       "      <td>18.9007</td>\n",
       "      <td>42.3170</td>\n",
       "      <td>0.9989</td>\n",
       "    </tr>\n",
       "    <tr>\n",
       "      <th>37</th>\n",
       "      <td>e_X_U_info_censor</td>\n",
       "      <td>scenario_1</td>\n",
       "      <td>0.6860</td>\n",
       "      <td>0.1860</td>\n",
       "      <td>0.6861</td>\n",
       "      <td>0.2336</td>\n",
       "      <td>0.6845</td>\n",
       "      <td>24.7955</td>\n",
       "      <td>0.6861</td>\n",
       "      <td>19.1767</td>\n",
       "      <td>0.6838</td>\n",
       "      <td>0.6901</td>\n",
       "    </tr>\n",
       "    <tr>\n",
       "      <th>38</th>\n",
       "      <td>e_X_U_info_censor</td>\n",
       "      <td>scenario_2</td>\n",
       "      <td>15.7921</td>\n",
       "      <td>0.1724</td>\n",
       "      <td>15.7933</td>\n",
       "      <td>0.2180</td>\n",
       "      <td>15.7996</td>\n",
       "      <td>25.7783</td>\n",
       "      <td>15.8009</td>\n",
       "      <td>18.4523</td>\n",
       "      <td>15.7953</td>\n",
       "      <td>0.7111</td>\n",
       "    </tr>\n",
       "    <tr>\n",
       "      <th>39</th>\n",
       "      <td>e_X_U_info_censor</td>\n",
       "      <td>scenario_3</td>\n",
       "      <td>15.4206</td>\n",
       "      <td>0.1688</td>\n",
       "      <td>15.4119</td>\n",
       "      <td>0.2291</td>\n",
       "      <td>15.4454</td>\n",
       "      <td>27.5104</td>\n",
       "      <td>15.4063</td>\n",
       "      <td>18.6756</td>\n",
       "      <td>15.4036</td>\n",
       "      <td>0.7032</td>\n",
       "    </tr>\n",
       "    <tr>\n",
       "      <th>40</th>\n",
       "      <td>e_X_U_info_censor</td>\n",
       "      <td>scenario_8</td>\n",
       "      <td>17.5402</td>\n",
       "      <td>0.1706</td>\n",
       "      <td>17.5400</td>\n",
       "      <td>0.2290</td>\n",
       "      <td>17.5338</td>\n",
       "      <td>27.8773</td>\n",
       "      <td>17.5157</td>\n",
       "      <td>18.5498</td>\n",
       "      <td>17.5133</td>\n",
       "      <td>0.6410</td>\n",
       "    </tr>\n",
       "    <tr>\n",
       "      <th>41</th>\n",
       "      <td>e_X_U_info_censor</td>\n",
       "      <td>scenario_9</td>\n",
       "      <td>42.4331</td>\n",
       "      <td>0.1713</td>\n",
       "      <td>42.4324</td>\n",
       "      <td>0.2571</td>\n",
       "      <td>42.3697</td>\n",
       "      <td>25.2135</td>\n",
       "      <td>42.2873</td>\n",
       "      <td>19.7180</td>\n",
       "      <td>42.3741</td>\n",
       "      <td>0.6627</td>\n",
       "    </tr>\n",
       "  </tbody>\n",
       "</table>\n",
       "</div>"
      ],
      "text/plain": [
       "           setup_name scenario_key         ridge                     lasso  \\\n",
       "                                   mean_CATE_mse runtime [s] mean_CATE_mse   \n",
       "0             RCT_0_5   scenario_1        0.6923      1.4245        0.6924   \n",
       "1             RCT_0_5   scenario_2       15.8143      0.2101       15.8140   \n",
       "2             RCT_0_5   scenario_3       14.5100      0.2655       14.5073   \n",
       "3             RCT_0_5   scenario_5       14.6204      0.1831       14.6207   \n",
       "4             RCT_0_5   scenario_6       15.0242      0.1852       15.0299   \n",
       "5             RCT_0_5   scenario_8       17.2597      0.1934       17.2528   \n",
       "6             RCT_0_5   scenario_9       43.1339      0.1982       43.1336   \n",
       "7             RCT_0_5  scenario_10       15.8455      0.1883       15.8559   \n",
       "8            RCT_0_05   scenario_1        0.6919      0.2706        0.6918   \n",
       "9            RCT_0_05   scenario_2       15.8345      0.2784       15.8404   \n",
       "10           RCT_0_05   scenario_3       14.5072      0.2593       14.5032   \n",
       "11           RCT_0_05   scenario_5       14.6307      0.2521       14.6307   \n",
       "12           RCT_0_05   scenario_6       15.0230      0.2600       15.0275   \n",
       "13           RCT_0_05   scenario_8       17.2416      0.3001       17.2538   \n",
       "14           RCT_0_05   scenario_9       43.1115      0.2502       43.1101   \n",
       "15           RCT_0_05  scenario_10       15.8764      0.2299       15.8826   \n",
       "16                e_X   scenario_1        0.6932      0.1997        0.6934   \n",
       "17                e_X   scenario_2       15.8061      0.1927       15.8079   \n",
       "18                e_X   scenario_3       14.5287      0.1963       14.5223   \n",
       "19                e_X   scenario_5       14.6475      0.2037       14.6448   \n",
       "20                e_X   scenario_6       15.0196      0.2183       15.0205   \n",
       "21                e_X   scenario_8       17.2591      0.1803       17.3012   \n",
       "22                e_X   scenario_9       43.1227      0.1711       43.1245   \n",
       "23                e_X  scenario_10       15.8670      0.1706       15.8664   \n",
       "24              e_X_U   scenario_1        0.6928      0.2006        0.6929   \n",
       "25              e_X_U   scenario_2       15.8173      0.1777       15.8191   \n",
       "26              e_X_U   scenario_3       14.5188      0.1888       14.5204   \n",
       "27              e_X_U   scenario_5       14.6957      0.1871       14.6956   \n",
       "28              e_X_U   scenario_6       15.0279      0.1915       15.0324   \n",
       "29              e_X_U   scenario_8       17.2711      0.1814       17.2804   \n",
       "30              e_X_U   scenario_9       43.1229      0.1822       43.1235   \n",
       "31              e_X_U  scenario_10       15.8662      0.1772       15.8637   \n",
       "32    e_X_info_censor   scenario_1        0.6864      0.1924        0.6865   \n",
       "33    e_X_info_censor   scenario_2       15.7771      0.1932       15.7785   \n",
       "34    e_X_info_censor   scenario_3       15.5078      0.2091       15.4881   \n",
       "35    e_X_info_censor   scenario_8       17.4853      0.1706       17.4666   \n",
       "36    e_X_info_censor   scenario_9       42.4570      0.2068       42.4574   \n",
       "37  e_X_U_info_censor   scenario_1        0.6860      0.1860        0.6861   \n",
       "38  e_X_U_info_censor   scenario_2       15.7921      0.1724       15.7933   \n",
       "39  e_X_U_info_censor   scenario_3       15.4206      0.1688       15.4119   \n",
       "40  e_X_U_info_censor   scenario_8       17.5402      0.1706       17.5400   \n",
       "41  e_X_U_info_censor   scenario_9       42.4331      0.1713       42.4324   \n",
       "\n",
       "                          rf                       gbr              \\\n",
       "   runtime [s] mean_CATE_mse runtime [s] mean_CATE_mse runtime [s]   \n",
       "0       0.3251        0.6900     24.9766        0.6906     19.5486   \n",
       "1       0.2526       15.8130     26.2517       15.8108     19.4713   \n",
       "2       0.4615       14.5023     25.2898       14.5142     19.5803   \n",
       "3       0.2401       14.6803     23.1341       14.6664     20.8295   \n",
       "4       0.2494       15.0758     24.9503       15.0699     19.5163   \n",
       "5       0.2498       17.2517     31.8656       17.2482     20.6778   \n",
       "6       0.2858       43.1075     24.5429       43.1196     19.7634   \n",
       "7       0.2758       15.8183     26.9769       15.8524     21.4635   \n",
       "8       0.3179        0.6913     31.1490        0.7031     21.2880   \n",
       "9       0.3195       15.8501     29.5224       15.8848     21.9545   \n",
       "10      0.3049       14.6243     27.9829       14.6309     21.7666   \n",
       "11      0.3206       14.7462     27.8073       14.8301     21.5818   \n",
       "12      0.3161       15.0506     29.4087       15.0831     21.3626   \n",
       "13      0.3460       17.2391     33.8748       17.2580     21.1547   \n",
       "14      0.2967       43.0949     26.9614       43.1058     20.4679   \n",
       "15      0.3050       15.9550     31.5867       15.9193     21.4342   \n",
       "16      0.2888        0.6894     23.9494        0.6903     20.0258   \n",
       "17      0.2550       15.8166     26.2630       15.8107     19.0085   \n",
       "18      0.4957       14.5253     24.1663       14.5622     19.7773   \n",
       "19      0.2917       14.6950     25.9445       14.6825     21.1120   \n",
       "20      0.4038       15.0695     23.1185       15.0501     19.5675   \n",
       "21      0.5323       17.2661     29.3815       17.2812     21.2535   \n",
       "22      0.2318       43.0905     24.4019       43.1097     19.1128   \n",
       "23      0.2364       15.8422     27.7801       15.9345     18.6757   \n",
       "24      0.2536        0.6910     23.4879        0.6912     18.5048   \n",
       "25      0.2296       15.8213     24.3992       15.8211     18.3722   \n",
       "26      0.2261       14.5154     24.4260       14.5264     18.5047   \n",
       "27      0.2141       14.7149     24.6178       14.7128     18.5498   \n",
       "28      0.2935       15.0678     23.3957       15.0467     18.5376   \n",
       "29      0.2298       17.2871     30.1246       17.2800     18.7875   \n",
       "30      0.2284       43.0864     22.8697       43.1084     18.4090   \n",
       "31      0.2691       15.9155     25.9754       15.9212     18.6277   \n",
       "32      0.2843        0.6850     23.9557        0.6873     18.8541   \n",
       "33      0.4223       15.7982     25.4453       15.7924     19.2659   \n",
       "34      0.4370       15.4950     28.9861       15.4614     20.5767   \n",
       "35      0.2273       17.4734     28.7136       17.4368     19.1466   \n",
       "36      0.2330       42.3993     26.5697       42.4038     18.9007   \n",
       "37      0.2336        0.6845     24.7955        0.6861     19.1767   \n",
       "38      0.2180       15.7996     25.7783       15.8009     18.4523   \n",
       "39      0.2291       15.4454     27.5104       15.4063     18.6756   \n",
       "40      0.2290       17.5338     27.8773       17.5157     18.5498   \n",
       "41      0.2571       42.3697     25.2135       42.2873     19.7180   \n",
       "\n",
       "             xgb              \n",
       "   mean_CATE_mse runtime [s]  \n",
       "0         0.6907      1.5611  \n",
       "1        15.8059      1.0358  \n",
       "2        14.5237      1.0507  \n",
       "3        14.6619      0.9518  \n",
       "4        15.0607      0.8408  \n",
       "5        17.2464      0.8838  \n",
       "6        43.1231      0.7650  \n",
       "7        15.8591      1.0295  \n",
       "8         0.6915      1.0316  \n",
       "9        15.8808      0.9894  \n",
       "10       14.6462      0.9239  \n",
       "11       14.8204      1.1047  \n",
       "12       15.0862      1.0953  \n",
       "13       17.2636      0.7801  \n",
       "14       43.0996      0.7606  \n",
       "15       15.8988      1.2281  \n",
       "16        0.6885      0.9048  \n",
       "17       15.8048      0.8436  \n",
       "18       14.5627      1.3402  \n",
       "19       14.7230      0.8549  \n",
       "20       15.0382      0.9364  \n",
       "21       17.2841      0.9429  \n",
       "22       43.1055      0.7726  \n",
       "23       15.8787      0.8501  \n",
       "24        0.6907      0.8187  \n",
       "25       15.8215      0.8146  \n",
       "26       14.5297      1.3159  \n",
       "27       14.8279      0.7469  \n",
       "28       15.0268      0.7431  \n",
       "29       17.2760      0.7593  \n",
       "30       43.1149      0.7772  \n",
       "31       15.8910      0.7804  \n",
       "32        0.6831      1.3243  \n",
       "33       15.7842      1.1426  \n",
       "34       15.4590      0.8022  \n",
       "35       17.4380      0.9139  \n",
       "36       42.3170      0.9989  \n",
       "37        0.6838      0.6901  \n",
       "38       15.7953      0.7111  \n",
       "39       15.4036      0.7032  \n",
       "40       17.5133      0.6410  \n",
       "41       42.3741      0.6627  "
      ]
     },
     "execution_count": 12,
     "metadata": {},
     "output_type": "execute_result"
    }
   ],
   "source": [
    "print(\"T-Learner Results\")\n",
    "summary_df = summarize_experiment_results(experiment_setups, base_regressors)\n",
    "summary_df"
   ]
  }
 ],
 "metadata": {
  "kernelspec": {
   "display_name": "surv_kernet",
   "language": "python",
   "name": "python3"
  },
  "language_info": {
   "codemirror_mode": {
    "name": "ipython",
    "version": 3
   },
   "file_extension": ".py",
   "mimetype": "text/x-python",
   "name": "python",
   "nbconvert_exporter": "python",
   "pygments_lexer": "ipython3",
   "version": "3.9.18"
  }
 },
 "nbformat": 4,
 "nbformat_minor": 2
}
